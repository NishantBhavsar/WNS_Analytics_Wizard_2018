{
 "cells": [
  {
   "cell_type": "code",
   "execution_count": 1,
   "metadata": {},
   "outputs": [],
   "source": [
    "import pandas as pd\n",
    "import numpy as np\n",
    "import matplotlib.pyplot as plt\n",
    "%matplotlib inline\n",
    "import seaborn as sns"
   ]
  },
  {
   "cell_type": "code",
   "execution_count": 125,
   "metadata": {},
   "outputs": [],
   "source": [
    "import os\n",
    "import time"
   ]
  },
  {
   "cell_type": "code",
   "execution_count": 3,
   "metadata": {},
   "outputs": [],
   "source": [
    "DATA_PATH = '../input/'\n",
    "SUB_PATH = '../submissions/'"
   ]
  },
  {
   "cell_type": "code",
   "execution_count": 4,
   "metadata": {},
   "outputs": [],
   "source": [
    "train_df = pd.read_csv(f'{DATA_PATH}/train.csv')\n",
    "test_df = pd.read_csv(f'{DATA_PATH}/test.csv')"
   ]
  },
  {
   "cell_type": "code",
   "execution_count": 5,
   "metadata": {},
   "outputs": [
    {
     "data": {
      "text/html": [
       "<div>\n",
       "<style scoped>\n",
       "    .dataframe tbody tr th:only-of-type {\n",
       "        vertical-align: middle;\n",
       "    }\n",
       "\n",
       "    .dataframe tbody tr th {\n",
       "        vertical-align: top;\n",
       "    }\n",
       "\n",
       "    .dataframe thead th {\n",
       "        text-align: right;\n",
       "    }\n",
       "</style>\n",
       "<table border=\"1\" class=\"dataframe\">\n",
       "  <thead>\n",
       "    <tr style=\"text-align: right;\">\n",
       "      <th></th>\n",
       "      <th>employee_id</th>\n",
       "      <th>department</th>\n",
       "      <th>region</th>\n",
       "      <th>education</th>\n",
       "      <th>gender</th>\n",
       "      <th>recruitment_channel</th>\n",
       "      <th>no_of_trainings</th>\n",
       "      <th>age</th>\n",
       "      <th>previous_year_rating</th>\n",
       "      <th>length_of_service</th>\n",
       "      <th>KPIs_met &gt;80%</th>\n",
       "      <th>awards_won?</th>\n",
       "      <th>avg_training_score</th>\n",
       "      <th>is_promoted</th>\n",
       "    </tr>\n",
       "  </thead>\n",
       "  <tbody>\n",
       "    <tr>\n",
       "      <th>0</th>\n",
       "      <td>65438</td>\n",
       "      <td>Sales &amp; Marketing</td>\n",
       "      <td>region_7</td>\n",
       "      <td>Master's &amp; above</td>\n",
       "      <td>f</td>\n",
       "      <td>sourcing</td>\n",
       "      <td>1</td>\n",
       "      <td>35</td>\n",
       "      <td>5.0</td>\n",
       "      <td>8</td>\n",
       "      <td>1</td>\n",
       "      <td>0</td>\n",
       "      <td>49</td>\n",
       "      <td>0</td>\n",
       "    </tr>\n",
       "    <tr>\n",
       "      <th>1</th>\n",
       "      <td>65141</td>\n",
       "      <td>Operations</td>\n",
       "      <td>region_22</td>\n",
       "      <td>Bachelor's</td>\n",
       "      <td>m</td>\n",
       "      <td>other</td>\n",
       "      <td>1</td>\n",
       "      <td>30</td>\n",
       "      <td>5.0</td>\n",
       "      <td>4</td>\n",
       "      <td>0</td>\n",
       "      <td>0</td>\n",
       "      <td>60</td>\n",
       "      <td>0</td>\n",
       "    </tr>\n",
       "    <tr>\n",
       "      <th>2</th>\n",
       "      <td>7513</td>\n",
       "      <td>Sales &amp; Marketing</td>\n",
       "      <td>region_19</td>\n",
       "      <td>Bachelor's</td>\n",
       "      <td>m</td>\n",
       "      <td>sourcing</td>\n",
       "      <td>1</td>\n",
       "      <td>34</td>\n",
       "      <td>3.0</td>\n",
       "      <td>7</td>\n",
       "      <td>0</td>\n",
       "      <td>0</td>\n",
       "      <td>50</td>\n",
       "      <td>0</td>\n",
       "    </tr>\n",
       "    <tr>\n",
       "      <th>3</th>\n",
       "      <td>2542</td>\n",
       "      <td>Sales &amp; Marketing</td>\n",
       "      <td>region_23</td>\n",
       "      <td>Bachelor's</td>\n",
       "      <td>m</td>\n",
       "      <td>other</td>\n",
       "      <td>2</td>\n",
       "      <td>39</td>\n",
       "      <td>1.0</td>\n",
       "      <td>10</td>\n",
       "      <td>0</td>\n",
       "      <td>0</td>\n",
       "      <td>50</td>\n",
       "      <td>0</td>\n",
       "    </tr>\n",
       "    <tr>\n",
       "      <th>4</th>\n",
       "      <td>48945</td>\n",
       "      <td>Technology</td>\n",
       "      <td>region_26</td>\n",
       "      <td>Bachelor's</td>\n",
       "      <td>m</td>\n",
       "      <td>other</td>\n",
       "      <td>1</td>\n",
       "      <td>45</td>\n",
       "      <td>3.0</td>\n",
       "      <td>2</td>\n",
       "      <td>0</td>\n",
       "      <td>0</td>\n",
       "      <td>73</td>\n",
       "      <td>0</td>\n",
       "    </tr>\n",
       "  </tbody>\n",
       "</table>\n",
       "</div>"
      ],
      "text/plain": [
       "   employee_id         department     region         education gender  \\\n",
       "0        65438  Sales & Marketing   region_7  Master's & above      f   \n",
       "1        65141         Operations  region_22        Bachelor's      m   \n",
       "2         7513  Sales & Marketing  region_19        Bachelor's      m   \n",
       "3         2542  Sales & Marketing  region_23        Bachelor's      m   \n",
       "4        48945         Technology  region_26        Bachelor's      m   \n",
       "\n",
       "  recruitment_channel  no_of_trainings  age  previous_year_rating  \\\n",
       "0            sourcing                1   35                   5.0   \n",
       "1               other                1   30                   5.0   \n",
       "2            sourcing                1   34                   3.0   \n",
       "3               other                2   39                   1.0   \n",
       "4               other                1   45                   3.0   \n",
       "\n",
       "   length_of_service  KPIs_met >80%  awards_won?  avg_training_score  \\\n",
       "0                  8              1            0                  49   \n",
       "1                  4              0            0                  60   \n",
       "2                  7              0            0                  50   \n",
       "3                 10              0            0                  50   \n",
       "4                  2              0            0                  73   \n",
       "\n",
       "   is_promoted  \n",
       "0            0  \n",
       "1            0  \n",
       "2            0  \n",
       "3            0  \n",
       "4            0  "
      ]
     },
     "execution_count": 5,
     "metadata": {},
     "output_type": "execute_result"
    }
   ],
   "source": [
    "train_df.head()"
   ]
  },
  {
   "cell_type": "code",
   "execution_count": 6,
   "metadata": {},
   "outputs": [
    {
     "data": {
      "text/plain": [
       "(54808, 14)"
      ]
     },
     "execution_count": 6,
     "metadata": {},
     "output_type": "execute_result"
    }
   ],
   "source": [
    "train_df.shape"
   ]
  },
  {
   "cell_type": "code",
   "execution_count": 7,
   "metadata": {},
   "outputs": [
    {
     "data": {
      "text/plain": [
       "employee_id                0\n",
       "department                 0\n",
       "region                     0\n",
       "education               2409\n",
       "gender                     0\n",
       "recruitment_channel        0\n",
       "no_of_trainings            0\n",
       "age                        0\n",
       "previous_year_rating    4124\n",
       "length_of_service          0\n",
       "KPIs_met >80%              0\n",
       "awards_won?                0\n",
       "avg_training_score         0\n",
       "is_promoted                0\n",
       "dtype: int64"
      ]
     },
     "execution_count": 7,
     "metadata": {},
     "output_type": "execute_result"
    }
   ],
   "source": [
    "train_df.isnull().sum()"
   ]
  },
  {
   "cell_type": "code",
   "execution_count": 8,
   "metadata": {},
   "outputs": [
    {
     "data": {
      "text/html": [
       "<div>\n",
       "<style scoped>\n",
       "    .dataframe tbody tr th:only-of-type {\n",
       "        vertical-align: middle;\n",
       "    }\n",
       "\n",
       "    .dataframe tbody tr th {\n",
       "        vertical-align: top;\n",
       "    }\n",
       "\n",
       "    .dataframe thead th {\n",
       "        text-align: right;\n",
       "    }\n",
       "</style>\n",
       "<table border=\"1\" class=\"dataframe\">\n",
       "  <thead>\n",
       "    <tr style=\"text-align: right;\">\n",
       "      <th></th>\n",
       "      <th>employee_id</th>\n",
       "      <th>department</th>\n",
       "      <th>region</th>\n",
       "      <th>education</th>\n",
       "      <th>gender</th>\n",
       "      <th>recruitment_channel</th>\n",
       "      <th>no_of_trainings</th>\n",
       "      <th>age</th>\n",
       "      <th>previous_year_rating</th>\n",
       "      <th>length_of_service</th>\n",
       "      <th>KPIs_met &gt;80%</th>\n",
       "      <th>awards_won?</th>\n",
       "      <th>avg_training_score</th>\n",
       "    </tr>\n",
       "  </thead>\n",
       "  <tbody>\n",
       "    <tr>\n",
       "      <th>0</th>\n",
       "      <td>8724</td>\n",
       "      <td>Technology</td>\n",
       "      <td>region_26</td>\n",
       "      <td>Bachelor's</td>\n",
       "      <td>m</td>\n",
       "      <td>sourcing</td>\n",
       "      <td>1</td>\n",
       "      <td>24</td>\n",
       "      <td>NaN</td>\n",
       "      <td>1</td>\n",
       "      <td>1</td>\n",
       "      <td>0</td>\n",
       "      <td>77</td>\n",
       "    </tr>\n",
       "    <tr>\n",
       "      <th>1</th>\n",
       "      <td>74430</td>\n",
       "      <td>HR</td>\n",
       "      <td>region_4</td>\n",
       "      <td>Bachelor's</td>\n",
       "      <td>f</td>\n",
       "      <td>other</td>\n",
       "      <td>1</td>\n",
       "      <td>31</td>\n",
       "      <td>3.0</td>\n",
       "      <td>5</td>\n",
       "      <td>0</td>\n",
       "      <td>0</td>\n",
       "      <td>51</td>\n",
       "    </tr>\n",
       "    <tr>\n",
       "      <th>2</th>\n",
       "      <td>72255</td>\n",
       "      <td>Sales &amp; Marketing</td>\n",
       "      <td>region_13</td>\n",
       "      <td>Bachelor's</td>\n",
       "      <td>m</td>\n",
       "      <td>other</td>\n",
       "      <td>1</td>\n",
       "      <td>31</td>\n",
       "      <td>1.0</td>\n",
       "      <td>4</td>\n",
       "      <td>0</td>\n",
       "      <td>0</td>\n",
       "      <td>47</td>\n",
       "    </tr>\n",
       "    <tr>\n",
       "      <th>3</th>\n",
       "      <td>38562</td>\n",
       "      <td>Procurement</td>\n",
       "      <td>region_2</td>\n",
       "      <td>Bachelor's</td>\n",
       "      <td>f</td>\n",
       "      <td>other</td>\n",
       "      <td>3</td>\n",
       "      <td>31</td>\n",
       "      <td>2.0</td>\n",
       "      <td>9</td>\n",
       "      <td>0</td>\n",
       "      <td>0</td>\n",
       "      <td>65</td>\n",
       "    </tr>\n",
       "    <tr>\n",
       "      <th>4</th>\n",
       "      <td>64486</td>\n",
       "      <td>Finance</td>\n",
       "      <td>region_29</td>\n",
       "      <td>Bachelor's</td>\n",
       "      <td>m</td>\n",
       "      <td>sourcing</td>\n",
       "      <td>1</td>\n",
       "      <td>30</td>\n",
       "      <td>4.0</td>\n",
       "      <td>7</td>\n",
       "      <td>0</td>\n",
       "      <td>0</td>\n",
       "      <td>61</td>\n",
       "    </tr>\n",
       "  </tbody>\n",
       "</table>\n",
       "</div>"
      ],
      "text/plain": [
       "   employee_id         department     region   education gender  \\\n",
       "0         8724         Technology  region_26  Bachelor's      m   \n",
       "1        74430                 HR   region_4  Bachelor's      f   \n",
       "2        72255  Sales & Marketing  region_13  Bachelor's      m   \n",
       "3        38562        Procurement   region_2  Bachelor's      f   \n",
       "4        64486            Finance  region_29  Bachelor's      m   \n",
       "\n",
       "  recruitment_channel  no_of_trainings  age  previous_year_rating  \\\n",
       "0            sourcing                1   24                   NaN   \n",
       "1               other                1   31                   3.0   \n",
       "2               other                1   31                   1.0   \n",
       "3               other                3   31                   2.0   \n",
       "4            sourcing                1   30                   4.0   \n",
       "\n",
       "   length_of_service  KPIs_met >80%  awards_won?  avg_training_score  \n",
       "0                  1              1            0                  77  \n",
       "1                  5              0            0                  51  \n",
       "2                  4              0            0                  47  \n",
       "3                  9              0            0                  65  \n",
       "4                  7              0            0                  61  "
      ]
     },
     "execution_count": 8,
     "metadata": {},
     "output_type": "execute_result"
    }
   ],
   "source": [
    "test_df.head()"
   ]
  },
  {
   "cell_type": "code",
   "execution_count": 9,
   "metadata": {},
   "outputs": [
    {
     "data": {
      "text/plain": [
       "(23490, 13)"
      ]
     },
     "execution_count": 9,
     "metadata": {},
     "output_type": "execute_result"
    }
   ],
   "source": [
    "test_df.shape"
   ]
  },
  {
   "cell_type": "code",
   "execution_count": 10,
   "metadata": {},
   "outputs": [
    {
     "data": {
      "text/plain": [
       "employee_id                0\n",
       "department                 0\n",
       "region                     0\n",
       "education               1034\n",
       "gender                     0\n",
       "recruitment_channel        0\n",
       "no_of_trainings            0\n",
       "age                        0\n",
       "previous_year_rating    1812\n",
       "length_of_service          0\n",
       "KPIs_met >80%              0\n",
       "awards_won?                0\n",
       "avg_training_score         0\n",
       "dtype: int64"
      ]
     },
     "execution_count": 10,
     "metadata": {},
     "output_type": "execute_result"
    }
   ],
   "source": [
    "test_df.isnull().sum()"
   ]
  },
  {
   "cell_type": "markdown",
   "metadata": {},
   "source": [
    "## EDA"
   ]
  },
  {
   "cell_type": "markdown",
   "metadata": {},
   "source": [
    "- This dataset contains data of employees who are nominated for promotion and have completed atleast 60% KPI.\n",
    "- so the main goal of this problem is to predict if an employee will get promoted or not out of all employees who has nominated and got KPI > 60%.\n",
    "- All the nominated employees have cleared 3 steps of the pramotion process in this company and how after final decision they will be promoted"
   ]
  },
  {
   "cell_type": "code",
   "execution_count": 42,
   "metadata": {},
   "outputs": [],
   "source": [
    "def plot_dist_train_test(train_se, test_se, figsize=(14, 7), categorical=True, freq=True, kde=False):\n",
    "    f, ax = plt.subplots(ncols=2, figsize=figsize)\n",
    "    if categorical:\n",
    "        tr = train_se.fillna('missing').value_counts(normalize= (True if freq else False))\n",
    "        te = test_se.fillna('missing').value_counts(normalize= (True if freq else False))\n",
    "        sns.barplot(x=tr.values, y=tr.index, ax=ax[0], orient=\"h\")\n",
    "        sns.barplot(x=te.values, y=te.index, ax=ax[1], orient=\"h\")\n",
    "        ax[0].set(title='Train dataset', ylabel=train_se.name)\n",
    "        ax[1].set(title='Test dataset')\n",
    "    else:\n",
    "        sns.distplot(train_se, ax=ax[0], kde=kde, orient=\"h\")\n",
    "        sns.distplot(test_se, ax=ax[1], kde=kde, orient=\"h\")\n",
    "    f.suptitle('Distribution of ' + train_se.name)\n",
    "    plt.show()"
   ]
  },
  {
   "cell_type": "markdown",
   "metadata": {},
   "source": [
    "### Univariate analysis"
   ]
  },
  {
   "cell_type": "markdown",
   "metadata": {},
   "source": [
    "#### `is_promoted` (target variable)"
   ]
  },
  {
   "cell_type": "code",
   "execution_count": 27,
   "metadata": {},
   "outputs": [
    {
     "data": {
      "image/png": "[encoded data removed]",
      "text/plain": [
       "<Figure size 432x288 with 1 Axes>"
      ]
     },
     "metadata": {},
     "output_type": "display_data"
    }
   ],
   "source": [
    "train_df['is_promoted'].value_counts(normalize=True).plot(kind='bar')\n",
    "plt.show()"
   ]
  },
  {
   "cell_type": "markdown",
   "metadata": {},
   "source": [
    "- imbalanced dataset.\n",
    "- around 8.5% employees are promoted"
   ]
  },
  {
   "cell_type": "markdown",
   "metadata": {},
   "source": [
    "#### `department`"
   ]
  },
  {
   "cell_type": "code",
   "execution_count": 21,
   "metadata": {},
   "outputs": [
    {
     "data": {
      "image/png": "[encoded data removed]",
      "text/plain": [
       "<Figure size 1008x504 with 2 Axes>"
      ]
     },
     "metadata": {},
     "output_type": "display_data"
    }
   ],
   "source": [
    "plot_dist_train_test(train_df['department'], test_df['department'])"
   ]
  },
  {
   "cell_type": "markdown",
   "metadata": {},
   "source": [
    "- more employees are from Sales & Marketing department in this dataset.\n",
    "- maybe because there are more positions available for promotion for this department (maybe because this company has big Sales & Marketing department compared to others)\n",
    "- or there are more qualified employees in this department, so that they are nominated for promotion."
   ]
  },
  {
   "cell_type": "code",
   "execution_count": 92,
   "metadata": {},
   "outputs": [
    {
     "data": {
      "text/plain": [
       "Sales & Marketing    16840\n",
       "Operations           11348\n",
       "Procurement           7138\n",
       "Technology            7138\n",
       "Analytics             5352\n",
       "Finance               2536\n",
       "HR                    2418\n",
       "Legal                 1039\n",
       "R&D                    999\n",
       "Name: department, dtype: int64"
      ]
     },
     "execution_count": 92,
     "metadata": {},
     "output_type": "execute_result"
    }
   ],
   "source": [
    "train_df['department'].value_counts()"
   ]
  },
  {
   "cell_type": "markdown",
   "metadata": {},
   "source": [
    "#### `region`"
   ]
  },
  {
   "cell_type": "code",
   "execution_count": 23,
   "metadata": {},
   "outputs": [
    {
     "data": {
      "image/png": "[encoded data removed]",
      "text/plain": [
       "<Figure size 1008x720 with 2 Axes>"
      ]
     },
     "metadata": {},
     "output_type": "display_data"
    }
   ],
   "source": [
    "plot_dist_train_test(train_df['region'], test_df['region'], figsize=(14,10))"
   ]
  },
  {
   "cell_type": "markdown",
   "metadata": {},
   "source": [
    "- There are total 34 regions.\n",
    "- 23% employees are employed in at region 2 office."
   ]
  },
  {
   "cell_type": "markdown",
   "metadata": {},
   "source": [
    "#### `education`"
   ]
  },
  {
   "cell_type": "code",
   "execution_count": 34,
   "metadata": {},
   "outputs": [
    {
     "data": {
      "image/png": "[encoded data removed]",
      "text/plain": [
       "<Figure size 1008x360 with 2 Axes>"
      ]
     },
     "metadata": {},
     "output_type": "display_data"
    }
   ],
   "source": [
    "plot_dist_train_test(train_df['education'], test_df['education'], figsize=(14,5))"
   ]
  },
  {
   "cell_type": "markdown",
   "metadata": {},
   "source": [
    "- More employees has Education level of Bachelor's.\n",
    "- Maybe in this company most employees has Bachelor's degree, that's why we have more Bachelor's degree employees."
   ]
  },
  {
   "cell_type": "markdown",
   "metadata": {},
   "source": [
    "#### `gender`"
   ]
  },
  {
   "cell_type": "code",
   "execution_count": 33,
   "metadata": {},
   "outputs": [
    {
     "data": {
      "image/png": "[encoded data removed]",
      "text/plain": [
       "<Figure size 1008x216 with 2 Axes>"
      ]
     },
     "metadata": {},
     "output_type": "display_data"
    }
   ],
   "source": [
    "plot_dist_train_test(train_df['gender'], test_df['gender'], figsize=(14, 3))"
   ]
  },
  {
   "cell_type": "markdown",
   "metadata": {},
   "source": [
    "- 70% employees are Male.\n",
    "- 30% employees are Female.\n",
    "- maybe company has more Male employees.\n",
    "- or Male employees performs well."
   ]
  },
  {
   "cell_type": "markdown",
   "metadata": {},
   "source": [
    "#### `recruitment_channel`"
   ]
  },
  {
   "cell_type": "code",
   "execution_count": 44,
   "metadata": {},
   "outputs": [
    {
     "data": {
      "image/png": "[encoded data removed]",
      "text/plain": [
       "<Figure size 1008x288 with 2 Axes>"
      ]
     },
     "metadata": {},
     "output_type": "display_data"
    }
   ],
   "source": [
    "plot_dist_train_test(train_df['recruitment_channel'], test_df['recruitment_channel'], figsize=(14, 4))"
   ]
  },
  {
   "cell_type": "markdown",
   "metadata": {},
   "source": [
    "#### `no_of_trainings`"
   ]
  },
  {
   "cell_type": "code",
   "execution_count": 43,
   "metadata": {},
   "outputs": [
    {
     "data": {
      "image/png": "[encoded data removed]",
      "text/plain": [
       "<Figure size 1008x504 with 2 Axes>"
      ]
     },
     "metadata": {},
     "output_type": "display_data"
    }
   ],
   "source": [
    "plot_dist_train_test(train_df['no_of_trainings'], test_df['no_of_trainings'], categorical=True)"
   ]
  },
  {
   "cell_type": "markdown",
   "metadata": {},
   "source": [
    "#### `previous_year_rating`"
   ]
  },
  {
   "cell_type": "code",
   "execution_count": 45,
   "metadata": {},
   "outputs": [
    {
     "data": {
      "image/png": "[encoded data removed]",
      "text/plain": [
       "<Figure size 1008x504 with 2 Axes>"
      ]
     },
     "metadata": {},
     "output_type": "display_data"
    }
   ],
   "source": [
    "plot_dist_train_test(train_df['previous_year_rating'], test_df['previous_year_rating'])"
   ]
  },
  {
   "cell_type": "markdown",
   "metadata": {},
   "source": [
    "- previous year rating is ordinal variable with minimum value 1 and maximum value 5."
   ]
  },
  {
   "cell_type": "markdown",
   "metadata": {},
   "source": [
    "#### `length_of_service`"
   ]
  },
  {
   "cell_type": "code",
   "execution_count": 49,
   "metadata": {},
   "outputs": [
    {
     "data": {
      "image/png": "[encoded data removed]",
      "text/plain": [
       "<Figure size 1008x720 with 2 Axes>"
      ]
     },
     "metadata": {},
     "output_type": "display_data"
    }
   ],
   "source": [
    "plot_dist_train_test(train_df['length_of_service'], test_df['length_of_service'], figsize=(14, 10))"
   ]
  },
  {
   "cell_type": "markdown",
   "metadata": {},
   "source": [
    "#### `KPIs_met >80%`"
   ]
  },
  {
   "cell_type": "code",
   "execution_count": 52,
   "metadata": {},
   "outputs": [
    {
     "data": {
      "image/png": "[encoded data removed]",
      "text/plain": [
       "<Figure size 1008x216 with 2 Axes>"
      ]
     },
     "metadata": {},
     "output_type": "display_data"
    }
   ],
   "source": [
    "plot_dist_train_test(train_df['KPIs_met >80%'], test_df['KPIs_met >80%'], figsize=(14,3))"
   ]
  },
  {
   "cell_type": "markdown",
   "metadata": {},
   "source": [
    "#### `awards_won?`"
   ]
  },
  {
   "cell_type": "code",
   "execution_count": 53,
   "metadata": {},
   "outputs": [
    {
     "data": {
      "image/png": "[encoded data removed]",
      "text/plain": [
       "<Figure size 1008x216 with 2 Axes>"
      ]
     },
     "metadata": {},
     "output_type": "display_data"
    }
   ],
   "source": [
    "plot_dist_train_test(train_df['awards_won?'], test_df['awards_won?'], figsize=(14, 3))"
   ]
  },
  {
   "cell_type": "markdown",
   "metadata": {},
   "source": [
    "#### `avg_training_score`"
   ]
  },
  {
   "cell_type": "code",
   "execution_count": 55,
   "metadata": {},
   "outputs": [
    {
     "data": {
      "image/png": "[encoded data removed]",
      "text/plain": [
       "<Figure size 1008x1080 with 2 Axes>"
      ]
     },
     "metadata": {},
     "output_type": "display_data"
    }
   ],
   "source": [
    "plot_dist_train_test(train_df['avg_training_score'], test_df['avg_training_score'], figsize=(14,15))"
   ]
  },
  {
   "cell_type": "markdown",
   "metadata": {},
   "source": [
    "#### `age`"
   ]
  },
  {
   "cell_type": "code",
   "execution_count": 57,
   "metadata": {},
   "outputs": [
    {
     "data": {
      "image/png": "[encoded data removed]",
      "text/plain": [
       "<Figure size 1008x720 with 2 Axes>"
      ]
     },
     "metadata": {},
     "output_type": "display_data"
    }
   ],
   "source": [
    "plot_dist_train_test(train_df['age'], test_df['age'], figsize=(14, 10))"
   ]
  },
  {
   "cell_type": "markdown",
   "metadata": {},
   "source": [
    "#### `employee_id`"
   ]
  },
  {
   "cell_type": "code",
   "execution_count": 69,
   "metadata": {},
   "outputs": [
    {
     "data": {
      "text/plain": [
       "54808"
      ]
     },
     "execution_count": 69,
     "metadata": {},
     "output_type": "execute_result"
    }
   ],
   "source": [
    "train_df['employee_id'].nunique()"
   ]
  },
  {
   "cell_type": "code",
   "execution_count": 70,
   "metadata": {},
   "outputs": [
    {
     "data": {
      "text/plain": [
       "54808"
      ]
     },
     "execution_count": 70,
     "metadata": {},
     "output_type": "execute_result"
    }
   ],
   "source": [
    "train_df.shape[0]"
   ]
  },
  {
   "cell_type": "code",
   "execution_count": 71,
   "metadata": {},
   "outputs": [
    {
     "data": {
      "text/plain": [
       "23490"
      ]
     },
     "execution_count": 71,
     "metadata": {},
     "output_type": "execute_result"
    }
   ],
   "source": [
    "test_df['employee_id'].nunique()"
   ]
  },
  {
   "cell_type": "code",
   "execution_count": 72,
   "metadata": {},
   "outputs": [
    {
     "data": {
      "text/plain": [
       "23490"
      ]
     },
     "execution_count": 72,
     "metadata": {},
     "output_type": "execute_result"
    }
   ],
   "source": [
    "test_df.shape[0]"
   ]
  },
  {
   "cell_type": "code",
   "execution_count": 74,
   "metadata": {},
   "outputs": [
    {
     "data": {
      "text/plain": [
       "23490"
      ]
     },
     "execution_count": 74,
     "metadata": {},
     "output_type": "execute_result"
    }
   ],
   "source": [
    "len(set(test_df['employee_id'].unique()) - set(train_df['employee_id'].unique()))"
   ]
  },
  {
   "cell_type": "markdown",
   "metadata": {},
   "source": [
    "- Every record has unique employee id.\n",
    "- That means this data is only of one promotion period."
   ]
  },
  {
   "cell_type": "markdown",
   "metadata": {},
   "source": [
    "### Fill missing values"
   ]
  },
  {
   "cell_type": "markdown",
   "metadata": {},
   "source": [
    "#### `previous_year_rating`"
   ]
  },
  {
   "cell_type": "code",
   "execution_count": 67,
   "metadata": {},
   "outputs": [
    {
     "data": {
      "text/plain": [
       "4124"
      ]
     },
     "execution_count": 67,
     "metadata": {},
     "output_type": "execute_result"
    }
   ],
   "source": [
    "train_df['previous_year_rating'].isnull().sum()"
   ]
  },
  {
   "cell_type": "code",
   "execution_count": 66,
   "metadata": {},
   "outputs": [
    {
     "data": {
      "text/plain": [
       "4124"
      ]
     },
     "execution_count": 66,
     "metadata": {},
     "output_type": "execute_result"
    }
   ],
   "source": [
    "train_df[train_df['length_of_service'] == 1]['previous_year_rating'].isnull().sum()"
   ]
  },
  {
   "cell_type": "code",
   "execution_count": 86,
   "metadata": {},
   "outputs": [
    {
     "data": {
      "text/plain": [
       "4547"
      ]
     },
     "execution_count": 86,
     "metadata": {},
     "output_type": "execute_result"
    }
   ],
   "source": [
    "(train_df['length_of_service']==1).sum()"
   ]
  },
  {
   "cell_type": "code",
   "execution_count": 91,
   "metadata": {},
   "outputs": [
    {
     "data": {
      "text/plain": [
       "3.0    0.373522\n",
       "4.0    0.269504\n",
       "5.0    0.151300\n",
       "1.0    0.104019\n",
       "2.0    0.101655\n",
       "Name: previous_year_rating, dtype: float64"
      ]
     },
     "execution_count": 91,
     "metadata": {},
     "output_type": "execute_result"
    }
   ],
   "source": [
    "train_df[(train_df['length_of_service'] == 1) & (~train_df['previous_year_rating'].isnull())]['previous_year_rating'].value_counts(normalize=True)"
   ]
  },
  {
   "cell_type": "code",
   "execution_count": 90,
   "metadata": {},
   "outputs": [
    {
     "data": {
      "text/plain": [
       "0    0.914588\n",
       "1    0.085412\n",
       "Name: is_promoted, dtype: float64"
      ]
     },
     "execution_count": 90,
     "metadata": {},
     "output_type": "execute_result"
    }
   ],
   "source": [
    "train_df[~train_df['previous_year_rating'].isnull()]['is_promoted'].value_counts(normalize=True)"
   ]
  },
  {
   "cell_type": "markdown",
   "metadata": {},
   "source": [
    "- Every records with missing `previous_year_rating` value has  `length_of_service` columns value 1.\n",
    "- There must be some relation between them.\n",
    "- previous_year_rating has values betweek [1, 5].\n",
    "- This is ordinal veriable.\n",
    "- As we can see from below graph as previous_year_rating increase, chances of promotion also increase,\n",
    "- so putting 0 in this missing values maybe considered as little bit less qualified employee.\n",
    "- But records which has missing previous_year_rating values has 8.2 % chance of promotion.\n",
    "- Maybe these guys haven't got previous year rating yet because it's been only 1 year in this company for them.\n",
    "- we can ue one hot encoding for this column."
   ]
  },
  {
   "cell_type": "code",
   "execution_count": 89,
   "metadata": {},
   "outputs": [
    {
     "data": {
      "text/plain": [
       "0    0.917798\n",
       "1    0.082202\n",
       "Name: is_promoted, dtype: float64"
      ]
     },
     "execution_count": 89,
     "metadata": {},
     "output_type": "execute_result"
    }
   ],
   "source": [
    "train_df[train_df['previous_year_rating'].isnull()]['is_promoted'].value_counts(normalize=True)"
   ]
  },
  {
   "cell_type": "code",
   "execution_count": 85,
   "metadata": {},
   "outputs": [
    {
     "data": {
      "image/png": "[encoded data removed]",
      "text/plain": [
       "<Figure size 432x288 with 1 Axes>"
      ]
     },
     "metadata": {},
     "output_type": "display_data"
    }
   ],
   "source": [
    "sns.countplot(train_df['previous_year_rating'], hue=train_df['is_promoted'])\n",
    "plt.show()"
   ]
  },
  {
   "cell_type": "code",
   "execution_count": 82,
   "metadata": {},
   "outputs": [
    {
     "data": {
      "text/plain": [
       "0    0.985859\n",
       "1    0.014141\n",
       "Name: is_promoted, dtype: float64"
      ]
     },
     "execution_count": 82,
     "metadata": {},
     "output_type": "execute_result"
    }
   ],
   "source": [
    "train_df[train_df['previous_year_rating'] == 1]['is_promoted'].value_counts(normalize=True)"
   ]
  },
  {
   "cell_type": "code",
   "execution_count": 83,
   "metadata": {},
   "outputs": [
    {
     "data": {
      "text/plain": [
       "0    0.95716\n",
       "1    0.04284\n",
       "Name: is_promoted, dtype: float64"
      ]
     },
     "execution_count": 83,
     "metadata": {},
     "output_type": "execute_result"
    }
   ],
   "source": [
    "train_df[train_df['previous_year_rating'] == 2]['is_promoted'].value_counts(normalize=True)"
   ]
  },
  {
   "cell_type": "code",
   "execution_count": 79,
   "metadata": {},
   "outputs": [
    {
     "data": {
      "text/plain": [
       "0    0.927221\n",
       "1    0.072779\n",
       "Name: is_promoted, dtype: float64"
      ]
     },
     "execution_count": 79,
     "metadata": {},
     "output_type": "execute_result"
    }
   ],
   "source": [
    "train_df[train_df['previous_year_rating'] == 3]['is_promoted'].value_counts(normalize=True)"
   ]
  },
  {
   "cell_type": "code",
   "execution_count": 80,
   "metadata": {},
   "outputs": [
    {
     "data": {
      "text/plain": [
       "0    0.920624\n",
       "1    0.079376\n",
       "Name: is_promoted, dtype: float64"
      ]
     },
     "execution_count": 80,
     "metadata": {},
     "output_type": "execute_result"
    }
   ],
   "source": [
    "train_df[train_df['previous_year_rating'] == 4]['is_promoted'].value_counts(normalize=True)"
   ]
  },
  {
   "cell_type": "code",
   "execution_count": 84,
   "metadata": {},
   "outputs": [
    {
     "data": {
      "text/plain": [
       "0    0.836385\n",
       "1    0.163615\n",
       "Name: is_promoted, dtype: float64"
      ]
     },
     "execution_count": 84,
     "metadata": {},
     "output_type": "execute_result"
    }
   ],
   "source": [
    "train_df[train_df['previous_year_rating'] == 5]['is_promoted'].value_counts(normalize=True)"
   ]
  },
  {
   "cell_type": "code",
   "execution_count": null,
   "metadata": {},
   "outputs": [],
   "source": []
  },
  {
   "cell_type": "markdown",
   "metadata": {},
   "source": [
    "#### `education`"
   ]
  },
  {
   "cell_type": "code",
   "execution_count": 103,
   "metadata": {},
   "outputs": [
    {
     "data": {
      "image/png": "[encoded data removed]",
      "text/plain": [
       "<Figure size 1008x504 with 2 Axes>"
      ]
     },
     "metadata": {},
     "output_type": "display_data"
    }
   ],
   "source": [
    "# for education level Below Secondary\n",
    "plot_dist_train_test(train_df[train_df['education']=='Below Secondary']['age'], train_df[train_df['education']=='Below Secondary']['age'])"
   ]
  },
  {
   "cell_type": "code",
   "execution_count": 113,
   "metadata": {},
   "outputs": [
    {
     "data": {
      "image/png": "[encoded data removed]",
      "text/plain": [
       "<Figure size 1008x504 with 2 Axes>"
      ]
     },
     "metadata": {},
     "output_type": "display_data"
    }
   ],
   "source": [
    "# for missing education level records\n",
    "plot_dist_train_test(train_df[train_df['education'].isnull()]['age'], train_df[train_df['education'].isnull()]['age'])"
   ]
  },
  {
   "cell_type": "markdown",
   "metadata": {},
   "source": [
    "- in education column we have bachelor's, master's & above, below secondary.\n",
    "- below secondary means only primary education.\n",
    "- so maybe these records with missing education can be secondary education.\n",
    "- Let's take OHE of this and use NaN as new category."
   ]
  },
  {
   "cell_type": "markdown",
   "metadata": {},
   "source": [
    "# # # # # # # # # # # # # # # # # # # # # # # # # # # # # # # # # # # # # # # # # # # # # "
   ]
  },
  {
   "cell_type": "markdown",
   "metadata": {},
   "source": [
    "### RF classifier"
   ]
  },
  {
   "cell_type": "markdown",
   "metadata": {},
   "source": [
    "#### Prepare data"
   ]
  },
  {
   "cell_type": "code",
   "execution_count": 80,
   "metadata": {},
   "outputs": [],
   "source": [
    "train_df = pd.read_csv(f'{DATA_PATH}/train.csv')\n",
    "test_df = pd.read_csv(f'{DATA_PATH}/test.csv')"
   ]
  },
  {
   "cell_type": "code",
   "execution_count": 81,
   "metadata": {},
   "outputs": [],
   "source": [
    "train_df['education'].fillna('Secondary', inplace=True)\n",
    "train_df['previous_year_rating'].fillna(0, inplace=True)"
   ]
  },
  {
   "cell_type": "code",
   "execution_count": 82,
   "metadata": {},
   "outputs": [],
   "source": [
    "test_df['education'].fillna('Secondary', inplace=True)\n",
    "test_df['previous_year_rating'].fillna(0, inplace=True)"
   ]
  },
  {
   "cell_type": "code",
   "execution_count": 83,
   "metadata": {},
   "outputs": [],
   "source": [
    "train_df.loc[train_df['gender']=='m', 'gender'] = 1\n",
    "train_df.loc[train_df['gender']=='f', 'gender'] = 0\n",
    "train_df['gender'] = train_df['gender'].astype('int')"
   ]
  },
  {
   "cell_type": "code",
   "execution_count": 84,
   "metadata": {},
   "outputs": [],
   "source": [
    "test_df.loc[test_df['gender']=='m', 'gender'] = 1\n",
    "test_df.loc[test_df['gender']=='f', 'gender'] = 0\n",
    "test_df['gender'] = test_df['gender'].astype('int')"
   ]
  },
  {
   "cell_type": "code",
   "execution_count": 85,
   "metadata": {},
   "outputs": [],
   "source": [
    "dum_cols = ['department', 'education', 'recruitment_channel', 'previous_year_rating']\n",
    "temp_tr = pd.get_dummies(train_df[dum_cols])\n",
    "train_df.drop(dum_cols, axis=1, inplace=True)\n",
    "train_df = train_df.join(temp_tr)\n",
    "temp_te = pd.get_dummies(test_df[dum_cols])\n",
    "test_df.drop(dum_cols, axis=1, inplace=True)\n",
    "test_df = test_df.join(temp_te)"
   ]
  },
  {
   "cell_type": "code",
   "execution_count": 86,
   "metadata": {},
   "outputs": [
    {
     "data": {
      "text/html": [
       "<div>\n",
       "<style scoped>\n",
       "    .dataframe tbody tr th:only-of-type {\n",
       "        vertical-align: middle;\n",
       "    }\n",
       "\n",
       "    .dataframe tbody tr th {\n",
       "        vertical-align: top;\n",
       "    }\n",
       "\n",
       "    .dataframe thead th {\n",
       "        text-align: right;\n",
       "    }\n",
       "</style>\n",
       "<table border=\"1\" class=\"dataframe\">\n",
       "  <thead>\n",
       "    <tr style=\"text-align: right;\">\n",
       "      <th></th>\n",
       "      <th>employee_id</th>\n",
       "      <th>region</th>\n",
       "      <th>gender</th>\n",
       "      <th>no_of_trainings</th>\n",
       "      <th>age</th>\n",
       "      <th>length_of_service</th>\n",
       "      <th>KPIs_met &gt;80%</th>\n",
       "      <th>awards_won?</th>\n",
       "      <th>avg_training_score</th>\n",
       "      <th>is_promoted</th>\n",
       "      <th>...</th>\n",
       "      <th>department_R&amp;D</th>\n",
       "      <th>department_Sales &amp; Marketing</th>\n",
       "      <th>department_Technology</th>\n",
       "      <th>education_Bachelor's</th>\n",
       "      <th>education_Below Secondary</th>\n",
       "      <th>education_Master's &amp; above</th>\n",
       "      <th>education_Secondary</th>\n",
       "      <th>recruitment_channel_other</th>\n",
       "      <th>recruitment_channel_referred</th>\n",
       "      <th>recruitment_channel_sourcing</th>\n",
       "    </tr>\n",
       "  </thead>\n",
       "  <tbody>\n",
       "    <tr>\n",
       "      <th>0</th>\n",
       "      <td>65438</td>\n",
       "      <td>region_7</td>\n",
       "      <td>0</td>\n",
       "      <td>1</td>\n",
       "      <td>35</td>\n",
       "      <td>8</td>\n",
       "      <td>1</td>\n",
       "      <td>0</td>\n",
       "      <td>49</td>\n",
       "      <td>0</td>\n",
       "      <td>...</td>\n",
       "      <td>0</td>\n",
       "      <td>1</td>\n",
       "      <td>0</td>\n",
       "      <td>0</td>\n",
       "      <td>0</td>\n",
       "      <td>1</td>\n",
       "      <td>0</td>\n",
       "      <td>0</td>\n",
       "      <td>0</td>\n",
       "      <td>1</td>\n",
       "    </tr>\n",
       "    <tr>\n",
       "      <th>1</th>\n",
       "      <td>65141</td>\n",
       "      <td>region_22</td>\n",
       "      <td>1</td>\n",
       "      <td>1</td>\n",
       "      <td>30</td>\n",
       "      <td>4</td>\n",
       "      <td>0</td>\n",
       "      <td>0</td>\n",
       "      <td>60</td>\n",
       "      <td>0</td>\n",
       "      <td>...</td>\n",
       "      <td>0</td>\n",
       "      <td>0</td>\n",
       "      <td>0</td>\n",
       "      <td>1</td>\n",
       "      <td>0</td>\n",
       "      <td>0</td>\n",
       "      <td>0</td>\n",
       "      <td>1</td>\n",
       "      <td>0</td>\n",
       "      <td>0</td>\n",
       "    </tr>\n",
       "    <tr>\n",
       "      <th>2</th>\n",
       "      <td>7513</td>\n",
       "      <td>region_19</td>\n",
       "      <td>1</td>\n",
       "      <td>1</td>\n",
       "      <td>34</td>\n",
       "      <td>7</td>\n",
       "      <td>0</td>\n",
       "      <td>0</td>\n",
       "      <td>50</td>\n",
       "      <td>0</td>\n",
       "      <td>...</td>\n",
       "      <td>0</td>\n",
       "      <td>1</td>\n",
       "      <td>0</td>\n",
       "      <td>1</td>\n",
       "      <td>0</td>\n",
       "      <td>0</td>\n",
       "      <td>0</td>\n",
       "      <td>0</td>\n",
       "      <td>0</td>\n",
       "      <td>1</td>\n",
       "    </tr>\n",
       "    <tr>\n",
       "      <th>3</th>\n",
       "      <td>2542</td>\n",
       "      <td>region_23</td>\n",
       "      <td>1</td>\n",
       "      <td>2</td>\n",
       "      <td>39</td>\n",
       "      <td>10</td>\n",
       "      <td>0</td>\n",
       "      <td>0</td>\n",
       "      <td>50</td>\n",
       "      <td>0</td>\n",
       "      <td>...</td>\n",
       "      <td>0</td>\n",
       "      <td>1</td>\n",
       "      <td>0</td>\n",
       "      <td>1</td>\n",
       "      <td>0</td>\n",
       "      <td>0</td>\n",
       "      <td>0</td>\n",
       "      <td>1</td>\n",
       "      <td>0</td>\n",
       "      <td>0</td>\n",
       "    </tr>\n",
       "    <tr>\n",
       "      <th>4</th>\n",
       "      <td>48945</td>\n",
       "      <td>region_26</td>\n",
       "      <td>1</td>\n",
       "      <td>1</td>\n",
       "      <td>45</td>\n",
       "      <td>2</td>\n",
       "      <td>0</td>\n",
       "      <td>0</td>\n",
       "      <td>73</td>\n",
       "      <td>0</td>\n",
       "      <td>...</td>\n",
       "      <td>0</td>\n",
       "      <td>0</td>\n",
       "      <td>1</td>\n",
       "      <td>1</td>\n",
       "      <td>0</td>\n",
       "      <td>0</td>\n",
       "      <td>0</td>\n",
       "      <td>1</td>\n",
       "      <td>0</td>\n",
       "      <td>0</td>\n",
       "    </tr>\n",
       "  </tbody>\n",
       "</table>\n",
       "<p>5 rows × 27 columns</p>\n",
       "</div>"
      ],
      "text/plain": [
       "   employee_id     region  gender  no_of_trainings  age  length_of_service  \\\n",
       "0        65438   region_7       0                1   35                  8   \n",
       "1        65141  region_22       1                1   30                  4   \n",
       "2         7513  region_19       1                1   34                  7   \n",
       "3         2542  region_23       1                2   39                 10   \n",
       "4        48945  region_26       1                1   45                  2   \n",
       "\n",
       "   KPIs_met >80%  awards_won?  avg_training_score  is_promoted  \\\n",
       "0              1            0                  49            0   \n",
       "1              0            0                  60            0   \n",
       "2              0            0                  50            0   \n",
       "3              0            0                  50            0   \n",
       "4              0            0                  73            0   \n",
       "\n",
       "               ...               department_R&D  department_Sales & Marketing  \\\n",
       "0              ...                            0                             1   \n",
       "1              ...                            0                             0   \n",
       "2              ...                            0                             1   \n",
       "3              ...                            0                             1   \n",
       "4              ...                            0                             0   \n",
       "\n",
       "   department_Technology  education_Bachelor's  education_Below Secondary  \\\n",
       "0                      0                     0                          0   \n",
       "1                      0                     1                          0   \n",
       "2                      0                     1                          0   \n",
       "3                      0                     1                          0   \n",
       "4                      1                     1                          0   \n",
       "\n",
       "   education_Master's & above  education_Secondary  recruitment_channel_other  \\\n",
       "0                           1                    0                          0   \n",
       "1                           0                    0                          1   \n",
       "2                           0                    0                          0   \n",
       "3                           0                    0                          1   \n",
       "4                           0                    0                          1   \n",
       "\n",
       "   recruitment_channel_referred  recruitment_channel_sourcing  \n",
       "0                             0                             1  \n",
       "1                             0                             0  \n",
       "2                             0                             1  \n",
       "3                             0                             0  \n",
       "4                             0                             0  \n",
       "\n",
       "[5 rows x 27 columns]"
      ]
     },
     "execution_count": 86,
     "metadata": {},
     "output_type": "execute_result"
    }
   ],
   "source": [
    "train_df.head()"
   ]
  },
  {
   "cell_type": "code",
   "execution_count": 87,
   "metadata": {},
   "outputs": [],
   "source": [
    "features = [i for i in test_df.columns if i not in ['employee_id', 'region']]\n",
    "target = 'is_promoted'"
   ]
  },
  {
   "cell_type": "markdown",
   "metadata": {},
   "source": [
    "#### model"
   ]
  },
  {
   "cell_type": "code",
   "execution_count": 94,
   "metadata": {},
   "outputs": [],
   "source": [
    "from sklearn.metrics import confusion_matrix, precision_score, recall_score, f1_score, make_scorer\n",
    "from sklearn.model_selection import cross_val_score, StratifiedKFold, GridSearchCV"
   ]
  },
  {
   "cell_type": "code",
   "execution_count": 93,
   "metadata": {},
   "outputs": [],
   "source": [
    "from sklearn.ensemble import RandomForestClassifier"
   ]
  },
  {
   "cell_type": "code",
   "execution_count": 100,
   "metadata": {},
   "outputs": [
    {
     "data": {
      "text/plain": [
       "'\\ndef cutoff_prediction(clf, X, cutoff):\\n    return (clf.predict_proba(X)[:,1]> cutoff).astype(int)\\n\\n# for cross_val_score\\ndef custom_f1(cutoff):\\n    def f1_cutoff(clf, X, y):\\n        ypred = cutoff_prediction(clf, X, cutoff)\\n        return f1_score(y, ypred)\\n    \\n    return f1_cutoff\\n'"
      ]
     },
     "execution_count": 100,
     "metadata": {},
     "output_type": "execute_result"
    }
   ],
   "source": [
    "'''\n",
    "def cutoff_prediction(clf, X, cutoff):\n",
    "    return (clf.predict_proba(X)[:,1]> cutoff).astype(int)\n",
    "\n",
    "# for cross_val_score\n",
    "def custom_f1(cutoff):\n",
    "    def f1_cutoff(clf, X, y):\n",
    "        ypred = cutoff_prediction(clf, X, cutoff)\n",
    "        return f1_score(y, ypred)\n",
    "    \n",
    "    return f1_cutoff\n",
    "'''"
   ]
  },
  {
   "cell_type": "code",
   "execution_count": 106,
   "metadata": {},
   "outputs": [],
   "source": [
    "def cutoff_f1(y, y_pred, cutoff):\n",
    "    ypred = (y_pred[:,1]>cutoff).astype(int)\n",
    "    return f1_score(y, ypred)"
   ]
  },
  {
   "cell_type": "code",
   "execution_count": 107,
   "metadata": {},
   "outputs": [],
   "source": [
    "f1_3 = make_scorer(score_func=cutoff_f1, cutoff = 0.3, greater_is_better=True, needs_proba=True)\n",
    "f1_4 = make_scorer(score_func=cutoff_f1, cutoff = 0.4, greater_is_better=True, needs_proba=True)\n",
    "f1_5 = make_scorer(score_func=cutoff_f1, cutoff = 0.5, greater_is_better=True, needs_proba=True)\n",
    "f1_6 = make_scorer(score_func=cutoff_f1, cutoff = 0.6, greater_is_better=True, needs_proba=True)"
   ]
  },
  {
   "cell_type": "code",
   "execution_count": 108,
   "metadata": {},
   "outputs": [],
   "source": [
    "scoring = {'f1_0.3': f1_3, 'f1_0.4': f1_4, 'f1_0.5': f1_5, 'f1_0.6': f1_6, 'precision': make_scorer(precision_score), 'recall_score': make_scorer(recall_score) }"
   ]
  },
  {
   "cell_type": "code",
   "execution_count": 129,
   "metadata": {},
   "outputs": [],
   "source": [
    "rf_clf = RandomForestClassifier(random_state=2018)\n",
    "rf_clf_param = {'random_state': [2018], 'n_estimators': [50,500], 'min_samples_split': [6, 10], 'min_samples_leaf':[1, 5], 'oob_score':[False], 'class_weight': ['balanced', {0: 0.01, 1: 20}, {0: 0.1, 1: 10}]}"
   ]
  },
  {
   "cell_type": "code",
   "execution_count": 130,
   "metadata": {},
   "outputs": [],
   "source": [
    "skf = StratifiedKFold(n_splits=5, random_state=2018, shuffle=True)"
   ]
  },
  {
   "cell_type": "code",
   "execution_count": 131,
   "metadata": {},
   "outputs": [],
   "source": [
    "rf_cv = GridSearchCV(estimator=rf_clf, param_grid=rf_clf_param, cv=skf, scoring=scoring, refit=False, n_jobs=-1)"
   ]
  },
  {
   "cell_type": "code",
   "execution_count": 132,
   "metadata": {},
   "outputs": [],
   "source": [
    "t1 = time.time()\n",
    "rf_cv.fit(train_df[features], train_df[target])\n",
    "t2 = time.time()"
   ]
  },
  {
   "cell_type": "code",
   "execution_count": 136,
   "metadata": {},
   "outputs": [
    {
     "name": "stdout",
     "output_type": "stream",
     "text": [
      "28.16451588869095 minutes\n"
     ]
    }
   ],
   "source": [
    "print(str((t2-t1)/60) + ' minutes')"
   ]
  },
  {
   "cell_type": "code",
   "execution_count": 133,
   "metadata": {
    "collapsed": true
   },
   "outputs": [
    {
     "name": "stderr",
     "output_type": "stream",
     "text": [
      "/home/nishant/venvs_dir/DS/lib/python3.6/site-packages/sklearn/utils/deprecation.py:122: FutureWarning: You are accessing a training score ('split0_train_f1_0.3'), which will not be available by default any more in 0.21. If you need training scores, please set return_train_score=True\n",
      "  warnings.warn(*warn_args, **warn_kwargs)\n",
      "/home/nishant/venvs_dir/DS/lib/python3.6/site-packages/sklearn/utils/deprecation.py:122: FutureWarning: You are accessing a training score ('split1_train_f1_0.3'), which will not be available by default any more in 0.21. If you need training scores, please set return_train_score=True\n",
      "  warnings.warn(*warn_args, **warn_kwargs)\n",
      "/home/nishant/venvs_dir/DS/lib/python3.6/site-packages/sklearn/utils/deprecation.py:122: FutureWarning: You are accessing a training score ('split2_train_f1_0.3'), which will not be available by default any more in 0.21. If you need training scores, please set return_train_score=True\n",
      "  warnings.warn(*warn_args, **warn_kwargs)\n",
      "/home/nishant/venvs_dir/DS/lib/python3.6/site-packages/sklearn/utils/deprecation.py:122: FutureWarning: You are accessing a training score ('split3_train_f1_0.3'), which will not be available by default any more in 0.21. If you need training scores, please set return_train_score=True\n",
      "  warnings.warn(*warn_args, **warn_kwargs)\n",
      "/home/nishant/venvs_dir/DS/lib/python3.6/site-packages/sklearn/utils/deprecation.py:122: FutureWarning: You are accessing a training score ('split4_train_f1_0.3'), which will not be available by default any more in 0.21. If you need training scores, please set return_train_score=True\n",
      "  warnings.warn(*warn_args, **warn_kwargs)\n",
      "/home/nishant/venvs_dir/DS/lib/python3.6/site-packages/sklearn/utils/deprecation.py:122: FutureWarning: You are accessing a training score ('mean_train_f1_0.3'), which will not be available by default any more in 0.21. If you need training scores, please set return_train_score=True\n",
      "  warnings.warn(*warn_args, **warn_kwargs)\n",
      "/home/nishant/venvs_dir/DS/lib/python3.6/site-packages/sklearn/utils/deprecation.py:122: FutureWarning: You are accessing a training score ('std_train_f1_0.3'), which will not be available by default any more in 0.21. If you need training scores, please set return_train_score=True\n",
      "  warnings.warn(*warn_args, **warn_kwargs)\n",
      "/home/nishant/venvs_dir/DS/lib/python3.6/site-packages/sklearn/utils/deprecation.py:122: FutureWarning: You are accessing a training score ('split0_train_f1_0.4'), which will not be available by default any more in 0.21. If you need training scores, please set return_train_score=True\n",
      "  warnings.warn(*warn_args, **warn_kwargs)\n",
      "/home/nishant/venvs_dir/DS/lib/python3.6/site-packages/sklearn/utils/deprecation.py:122: FutureWarning: You are accessing a training score ('split1_train_f1_0.4'), which will not be available by default any more in 0.21. If you need training scores, please set return_train_score=True\n",
      "  warnings.warn(*warn_args, **warn_kwargs)\n",
      "/home/nishant/venvs_dir/DS/lib/python3.6/site-packages/sklearn/utils/deprecation.py:122: FutureWarning: You are accessing a training score ('split2_train_f1_0.4'), which will not be available by default any more in 0.21. If you need training scores, please set return_train_score=True\n",
      "  warnings.warn(*warn_args, **warn_kwargs)\n",
      "/home/nishant/venvs_dir/DS/lib/python3.6/site-packages/sklearn/utils/deprecation.py:122: FutureWarning: You are accessing a training score ('split3_train_f1_0.4'), which will not be available by default any more in 0.21. If you need training scores, please set return_train_score=True\n",
      "  warnings.warn(*warn_args, **warn_kwargs)\n",
      "/home/nishant/venvs_dir/DS/lib/python3.6/site-packages/sklearn/utils/deprecation.py:122: FutureWarning: You are accessing a training score ('split4_train_f1_0.4'), which will not be available by default any more in 0.21. If you need training scores, please set return_train_score=True\n",
      "  warnings.warn(*warn_args, **warn_kwargs)\n",
      "/home/nishant/venvs_dir/DS/lib/python3.6/site-packages/sklearn/utils/deprecation.py:122: FutureWarning: You are accessing a training score ('mean_train_f1_0.4'), which will not be available by default any more in 0.21. If you need training scores, please set return_train_score=True\n",
      "  warnings.warn(*warn_args, **warn_kwargs)\n",
      "/home/nishant/venvs_dir/DS/lib/python3.6/site-packages/sklearn/utils/deprecation.py:122: FutureWarning: You are accessing a training score ('std_train_f1_0.4'), which will not be available by default any more in 0.21. If you need training scores, please set return_train_score=True\n",
      "  warnings.warn(*warn_args, **warn_kwargs)\n",
      "/home/nishant/venvs_dir/DS/lib/python3.6/site-packages/sklearn/utils/deprecation.py:122: FutureWarning: You are accessing a training score ('split0_train_f1_0.5'), which will not be available by default any more in 0.21. If you need training scores, please set return_train_score=True\n",
      "  warnings.warn(*warn_args, **warn_kwargs)\n",
      "/home/nishant/venvs_dir/DS/lib/python3.6/site-packages/sklearn/utils/deprecation.py:122: FutureWarning: You are accessing a training score ('split1_train_f1_0.5'), which will not be available by default any more in 0.21. If you need training scores, please set return_train_score=True\n",
      "  warnings.warn(*warn_args, **warn_kwargs)\n",
      "/home/nishant/venvs_dir/DS/lib/python3.6/site-packages/sklearn/utils/deprecation.py:122: FutureWarning: You are accessing a training score ('split2_train_f1_0.5'), which will not be available by default any more in 0.21. If you need training scores, please set return_train_score=True\n",
      "  warnings.warn(*warn_args, **warn_kwargs)\n",
      "/home/nishant/venvs_dir/DS/lib/python3.6/site-packages/sklearn/utils/deprecation.py:122: FutureWarning: You are accessing a training score ('split3_train_f1_0.5'), which will not be available by default any more in 0.21. If you need training scores, please set return_train_score=True\n",
      "  warnings.warn(*warn_args, **warn_kwargs)\n",
      "/home/nishant/venvs_dir/DS/lib/python3.6/site-packages/sklearn/utils/deprecation.py:122: FutureWarning: You are accessing a training score ('split4_train_f1_0.5'), which will not be available by default any more in 0.21. If you need training scores, please set return_train_score=True\n",
      "  warnings.warn(*warn_args, **warn_kwargs)\n",
      "/home/nishant/venvs_dir/DS/lib/python3.6/site-packages/sklearn/utils/deprecation.py:122: FutureWarning: You are accessing a training score ('mean_train_f1_0.5'), which will not be available by default any more in 0.21. If you need training scores, please set return_train_score=True\n",
      "  warnings.warn(*warn_args, **warn_kwargs)\n",
      "/home/nishant/venvs_dir/DS/lib/python3.6/site-packages/sklearn/utils/deprecation.py:122: FutureWarning: You are accessing a training score ('std_train_f1_0.5'), which will not be available by default any more in 0.21. If you need training scores, please set return_train_score=True\n",
      "  warnings.warn(*warn_args, **warn_kwargs)\n",
      "/home/nishant/venvs_dir/DS/lib/python3.6/site-packages/sklearn/utils/deprecation.py:122: FutureWarning: You are accessing a training score ('split0_train_f1_0.6'), which will not be available by default any more in 0.21. If you need training scores, please set return_train_score=True\n",
      "  warnings.warn(*warn_args, **warn_kwargs)\n",
      "/home/nishant/venvs_dir/DS/lib/python3.6/site-packages/sklearn/utils/deprecation.py:122: FutureWarning: You are accessing a training score ('split1_train_f1_0.6'), which will not be available by default any more in 0.21. If you need training scores, please set return_train_score=True\n",
      "  warnings.warn(*warn_args, **warn_kwargs)\n",
      "/home/nishant/venvs_dir/DS/lib/python3.6/site-packages/sklearn/utils/deprecation.py:122: FutureWarning: You are accessing a training score ('split2_train_f1_0.6'), which will not be available by default any more in 0.21. If you need training scores, please set return_train_score=True\n",
      "  warnings.warn(*warn_args, **warn_kwargs)\n",
      "/home/nishant/venvs_dir/DS/lib/python3.6/site-packages/sklearn/utils/deprecation.py:122: FutureWarning: You are accessing a training score ('split3_train_f1_0.6'), which will not be available by default any more in 0.21. If you need training scores, please set return_train_score=True\n",
      "  warnings.warn(*warn_args, **warn_kwargs)\n",
      "/home/nishant/venvs_dir/DS/lib/python3.6/site-packages/sklearn/utils/deprecation.py:122: FutureWarning: You are accessing a training score ('split4_train_f1_0.6'), which will not be available by default any more in 0.21. If you need training scores, please set return_train_score=True\n",
      "  warnings.warn(*warn_args, **warn_kwargs)\n",
      "/home/nishant/venvs_dir/DS/lib/python3.6/site-packages/sklearn/utils/deprecation.py:122: FutureWarning: You are accessing a training score ('mean_train_f1_0.6'), which will not be available by default any more in 0.21. If you need training scores, please set return_train_score=True\n",
      "  warnings.warn(*warn_args, **warn_kwargs)\n",
      "/home/nishant/venvs_dir/DS/lib/python3.6/site-packages/sklearn/utils/deprecation.py:122: FutureWarning: You are accessing a training score ('std_train_f1_0.6'), which will not be available by default any more in 0.21. If you need training scores, please set return_train_score=True\n",
      "  warnings.warn(*warn_args, **warn_kwargs)\n",
      "/home/nishant/venvs_dir/DS/lib/python3.6/site-packages/sklearn/utils/deprecation.py:122: FutureWarning: You are accessing a training score ('split0_train_precision'), which will not be available by default any more in 0.21. If you need training scores, please set return_train_score=True\n",
      "  warnings.warn(*warn_args, **warn_kwargs)\n",
      "/home/nishant/venvs_dir/DS/lib/python3.6/site-packages/sklearn/utils/deprecation.py:122: FutureWarning: You are accessing a training score ('split1_train_precision'), which will not be available by default any more in 0.21. If you need training scores, please set return_train_score=True\n",
      "  warnings.warn(*warn_args, **warn_kwargs)\n",
      "/home/nishant/venvs_dir/DS/lib/python3.6/site-packages/sklearn/utils/deprecation.py:122: FutureWarning: You are accessing a training score ('split2_train_precision'), which will not be available by default any more in 0.21. If you need training scores, please set return_train_score=True\n",
      "  warnings.warn(*warn_args, **warn_kwargs)\n",
      "/home/nishant/venvs_dir/DS/lib/python3.6/site-packages/sklearn/utils/deprecation.py:122: FutureWarning: You are accessing a training score ('split3_train_precision'), which will not be available by default any more in 0.21. If you need training scores, please set return_train_score=True\n",
      "  warnings.warn(*warn_args, **warn_kwargs)\n",
      "/home/nishant/venvs_dir/DS/lib/python3.6/site-packages/sklearn/utils/deprecation.py:122: FutureWarning: You are accessing a training score ('split4_train_precision'), which will not be available by default any more in 0.21. If you need training scores, please set return_train_score=True\n",
      "  warnings.warn(*warn_args, **warn_kwargs)\n",
      "/home/nishant/venvs_dir/DS/lib/python3.6/site-packages/sklearn/utils/deprecation.py:122: FutureWarning: You are accessing a training score ('mean_train_precision'), which will not be available by default any more in 0.21. If you need training scores, please set return_train_score=True\n",
      "  warnings.warn(*warn_args, **warn_kwargs)\n",
      "/home/nishant/venvs_dir/DS/lib/python3.6/site-packages/sklearn/utils/deprecation.py:122: FutureWarning: You are accessing a training score ('std_train_precision'), which will not be available by default any more in 0.21. If you need training scores, please set return_train_score=True\n",
      "  warnings.warn(*warn_args, **warn_kwargs)\n",
      "/home/nishant/venvs_dir/DS/lib/python3.6/site-packages/sklearn/utils/deprecation.py:122: FutureWarning: You are accessing a training score ('split0_train_recall_score'), which will not be available by default any more in 0.21. If you need training scores, please set return_train_score=True\n",
      "  warnings.warn(*warn_args, **warn_kwargs)\n",
      "/home/nishant/venvs_dir/DS/lib/python3.6/site-packages/sklearn/utils/deprecation.py:122: FutureWarning: You are accessing a training score ('split1_train_recall_score'), which will not be available by default any more in 0.21. If you need training scores, please set return_train_score=True\n",
      "  warnings.warn(*warn_args, **warn_kwargs)\n",
      "/home/nishant/venvs_dir/DS/lib/python3.6/site-packages/sklearn/utils/deprecation.py:122: FutureWarning: You are accessing a training score ('split2_train_recall_score'), which will not be available by default any more in 0.21. If you need training scores, please set return_train_score=True\n",
      "  warnings.warn(*warn_args, **warn_kwargs)\n",
      "/home/nishant/venvs_dir/DS/lib/python3.6/site-packages/sklearn/utils/deprecation.py:122: FutureWarning: You are accessing a training score ('split3_train_recall_score'), which will not be available by default any more in 0.21. If you need training scores, please set return_train_score=True\n",
      "  warnings.warn(*warn_args, **warn_kwargs)\n",
      "/home/nishant/venvs_dir/DS/lib/python3.6/site-packages/sklearn/utils/deprecation.py:122: FutureWarning: You are accessing a training score ('split4_train_recall_score'), which will not be available by default any more in 0.21. If you need training scores, please set return_train_score=True\n",
      "  warnings.warn(*warn_args, **warn_kwargs)\n",
      "/home/nishant/venvs_dir/DS/lib/python3.6/site-packages/sklearn/utils/deprecation.py:122: FutureWarning: You are accessing a training score ('mean_train_recall_score'), which will not be available by default any more in 0.21. If you need training scores, please set return_train_score=True\n",
      "  warnings.warn(*warn_args, **warn_kwargs)\n",
      "/home/nishant/venvs_dir/DS/lib/python3.6/site-packages/sklearn/utils/deprecation.py:122: FutureWarning: You are accessing a training score ('std_train_recall_score'), which will not be available by default any more in 0.21. If you need training scores, please set return_train_score=True\n",
      "  warnings.warn(*warn_args, **warn_kwargs)\n"
     ]
    },
    {
     "data": {
      "text/plain": [
       "{'mean_fit_time': array([ 5.29083595, 57.30927496,  4.64657979, 49.31937079,  5.52648444,\n",
       "        44.76283669,  4.71867237, 40.62141948,  5.55736713, 52.41354256,\n",
       "         4.0884656 , 41.22704864,  4.03288875, 37.11546512,  3.62454534,\n",
       "        36.91320229,  4.35571175, 39.40064316,  4.28266454, 40.08052726,\n",
       "         3.91362801, 38.35818253,  4.04649572, 35.44010062]),\n",
       " 'std_fit_time': array([0.42137187, 2.90367605, 0.41314405, 1.65354591, 0.79169376,\n",
       "        2.74552649, 0.68496126, 3.50602259, 1.12935908, 8.6746721 ,\n",
       "        0.16329682, 0.72552602, 0.32925462, 1.07885867, 0.4372063 ,\n",
       "        1.07947814, 0.33591947, 0.98761164, 0.46505861, 2.17041836,\n",
       "        0.29341887, 2.6626826 , 0.22566988, 6.80421952]),\n",
       " 'mean_score_time': array([ 1.65044165, 13.58103476,  1.57706285, 13.60458579,  1.39350424,\n",
       "        13.32393751,  1.46173482, 11.44256744,  1.51261349, 14.63848805,\n",
       "         1.22154512, 12.85924492,  1.19468932, 11.00994859,  1.04280667,\n",
       "        11.31784167,  1.26163483, 13.15084896,  1.27259555, 12.78676691,\n",
       "         1.12310061, 11.66329317,  1.15889173, 10.79109488]),\n",
       " 'std_score_time': array([0.1194807 , 0.60965057, 0.17262644, 1.73503321, 0.12835977,\n",
       "        1.5977452 , 0.18656888, 1.86381055, 0.24056075, 1.47749085,\n",
       "        0.02078361, 1.1621262 , 0.18075744, 0.2399994 , 0.0407107 ,\n",
       "        0.22206804, 0.06201895, 0.38376629, 0.12210746, 1.78130436,\n",
       "        0.11231868, 0.70021515, 0.07478942, 2.59051558]),\n",
       " 'param_class_weight': masked_array(data=['balanced', 'balanced', 'balanced', 'balanced',\n",
       "                    'balanced', 'balanced', 'balanced', 'balanced',\n",
       "                    {0: 0.01, 1: 20}, {0: 0.01, 1: 20}, {0: 0.01, 1: 20},\n",
       "                    {0: 0.01, 1: 20}, {0: 0.01, 1: 20}, {0: 0.01, 1: 20},\n",
       "                    {0: 0.01, 1: 20}, {0: 0.01, 1: 20}, {0: 0.1, 1: 10},\n",
       "                    {0: 0.1, 1: 10}, {0: 0.1, 1: 10}, {0: 0.1, 1: 10},\n",
       "                    {0: 0.1, 1: 10}, {0: 0.1, 1: 10}, {0: 0.1, 1: 10},\n",
       "                    {0: 0.1, 1: 10}],\n",
       "              mask=[False, False, False, False, False, False, False, False,\n",
       "                    False, False, False, False, False, False, False, False,\n",
       "                    False, False, False, False, False, False, False, False],\n",
       "        fill_value='?',\n",
       "             dtype=object),\n",
       " 'param_min_samples_leaf': masked_array(data=[1, 1, 1, 1, 5, 5, 5, 5, 1, 1, 1, 1, 5, 5, 5, 5, 1, 1,\n",
       "                    1, 1, 5, 5, 5, 5],\n",
       "              mask=[False, False, False, False, False, False, False, False,\n",
       "                    False, False, False, False, False, False, False, False,\n",
       "                    False, False, False, False, False, False, False, False],\n",
       "        fill_value='?',\n",
       "             dtype=object),\n",
       " 'param_min_samples_split': masked_array(data=[6, 6, 10, 10, 6, 6, 10, 10, 6, 6, 10, 10, 6, 6, 10, 10,\n",
       "                    6, 6, 10, 10, 6, 6, 10, 10],\n",
       "              mask=[False, False, False, False, False, False, False, False,\n",
       "                    False, False, False, False, False, False, False, False,\n",
       "                    False, False, False, False, False, False, False, False],\n",
       "        fill_value='?',\n",
       "             dtype=object),\n",
       " 'param_n_estimators': masked_array(data=[50, 500, 50, 500, 50, 500, 50, 500, 50, 500, 50, 500,\n",
       "                    50, 500, 50, 500, 50, 500, 50, 500, 50, 500, 50, 500],\n",
       "              mask=[False, False, False, False, False, False, False, False,\n",
       "                    False, False, False, False, False, False, False, False,\n",
       "                    False, False, False, False, False, False, False, False],\n",
       "        fill_value='?',\n",
       "             dtype=object),\n",
       " 'param_oob_score': masked_array(data=[False, False, False, False, False, False, False, False,\n",
       "                    False, False, False, False, False, False, False, False,\n",
       "                    False, False, False, False, False, False, False, False],\n",
       "              mask=[False, False, False, False, False, False, False, False,\n",
       "                    False, False, False, False, False, False, False, False,\n",
       "                    False, False, False, False, False, False, False, False],\n",
       "        fill_value='?',\n",
       "             dtype=object),\n",
       " 'param_random_state': masked_array(data=[2018, 2018, 2018, 2018, 2018, 2018, 2018, 2018, 2018,\n",
       "                    2018, 2018, 2018, 2018, 2018, 2018, 2018, 2018, 2018,\n",
       "                    2018, 2018, 2018, 2018, 2018, 2018],\n",
       "              mask=[False, False, False, False, False, False, False, False,\n",
       "                    False, False, False, False, False, False, False, False,\n",
       "                    False, False, False, False, False, False, False, False],\n",
       "        fill_value='?',\n",
       "             dtype=object),\n",
       " 'params': [{'class_weight': 'balanced',\n",
       "   'min_samples_leaf': 1,\n",
       "   'min_samples_split': 6,\n",
       "   'n_estimators': 50,\n",
       "   'oob_score': False,\n",
       "   'random_state': 2018},\n",
       "  {'class_weight': 'balanced',\n",
       "   'min_samples_leaf': 1,\n",
       "   'min_samples_split': 6,\n",
       "   'n_estimators': 500,\n",
       "   'oob_score': False,\n",
       "   'random_state': 2018},\n",
       "  {'class_weight': 'balanced',\n",
       "   'min_samples_leaf': 1,\n",
       "   'min_samples_split': 10,\n",
       "   'n_estimators': 50,\n",
       "   'oob_score': False,\n",
       "   'random_state': 2018},\n",
       "  {'class_weight': 'balanced',\n",
       "   'min_samples_leaf': 1,\n",
       "   'min_samples_split': 10,\n",
       "   'n_estimators': 500,\n",
       "   'oob_score': False,\n",
       "   'random_state': 2018},\n",
       "  {'class_weight': 'balanced',\n",
       "   'min_samples_leaf': 5,\n",
       "   'min_samples_split': 6,\n",
       "   'n_estimators': 50,\n",
       "   'oob_score': False,\n",
       "   'random_state': 2018},\n",
       "  {'class_weight': 'balanced',\n",
       "   'min_samples_leaf': 5,\n",
       "   'min_samples_split': 6,\n",
       "   'n_estimators': 500,\n",
       "   'oob_score': False,\n",
       "   'random_state': 2018},\n",
       "  {'class_weight': 'balanced',\n",
       "   'min_samples_leaf': 5,\n",
       "   'min_samples_split': 10,\n",
       "   'n_estimators': 50,\n",
       "   'oob_score': False,\n",
       "   'random_state': 2018},\n",
       "  {'class_weight': 'balanced',\n",
       "   'min_samples_leaf': 5,\n",
       "   'min_samples_split': 10,\n",
       "   'n_estimators': 500,\n",
       "   'oob_score': False,\n",
       "   'random_state': 2018},\n",
       "  {'class_weight': {0: 0.01, 1: 20},\n",
       "   'min_samples_leaf': 1,\n",
       "   'min_samples_split': 6,\n",
       "   'n_estimators': 50,\n",
       "   'oob_score': False,\n",
       "   'random_state': 2018},\n",
       "  {'class_weight': {0: 0.01, 1: 20},\n",
       "   'min_samples_leaf': 1,\n",
       "   'min_samples_split': 6,\n",
       "   'n_estimators': 500,\n",
       "   'oob_score': False,\n",
       "   'random_state': 2018},\n",
       "  {'class_weight': {0: 0.01, 1: 20},\n",
       "   'min_samples_leaf': 1,\n",
       "   'min_samples_split': 10,\n",
       "   'n_estimators': 50,\n",
       "   'oob_score': False,\n",
       "   'random_state': 2018},\n",
       "  {'class_weight': {0: 0.01, 1: 20},\n",
       "   'min_samples_leaf': 1,\n",
       "   'min_samples_split': 10,\n",
       "   'n_estimators': 500,\n",
       "   'oob_score': False,\n",
       "   'random_state': 2018},\n",
       "  {'class_weight': {0: 0.01, 1: 20},\n",
       "   'min_samples_leaf': 5,\n",
       "   'min_samples_split': 6,\n",
       "   'n_estimators': 50,\n",
       "   'oob_score': False,\n",
       "   'random_state': 2018},\n",
       "  {'class_weight': {0: 0.01, 1: 20},\n",
       "   'min_samples_leaf': 5,\n",
       "   'min_samples_split': 6,\n",
       "   'n_estimators': 500,\n",
       "   'oob_score': False,\n",
       "   'random_state': 2018},\n",
       "  {'class_weight': {0: 0.01, 1: 20},\n",
       "   'min_samples_leaf': 5,\n",
       "   'min_samples_split': 10,\n",
       "   'n_estimators': 50,\n",
       "   'oob_score': False,\n",
       "   'random_state': 2018},\n",
       "  {'class_weight': {0: 0.01, 1: 20},\n",
       "   'min_samples_leaf': 5,\n",
       "   'min_samples_split': 10,\n",
       "   'n_estimators': 500,\n",
       "   'oob_score': False,\n",
       "   'random_state': 2018},\n",
       "  {'class_weight': {0: 0.1, 1: 10},\n",
       "   'min_samples_leaf': 1,\n",
       "   'min_samples_split': 6,\n",
       "   'n_estimators': 50,\n",
       "   'oob_score': False,\n",
       "   'random_state': 2018},\n",
       "  {'class_weight': {0: 0.1, 1: 10},\n",
       "   'min_samples_leaf': 1,\n",
       "   'min_samples_split': 6,\n",
       "   'n_estimators': 500,\n",
       "   'oob_score': False,\n",
       "   'random_state': 2018},\n",
       "  {'class_weight': {0: 0.1, 1: 10},\n",
       "   'min_samples_leaf': 1,\n",
       "   'min_samples_split': 10,\n",
       "   'n_estimators': 50,\n",
       "   'oob_score': False,\n",
       "   'random_state': 2018},\n",
       "  {'class_weight': {0: 0.1, 1: 10},\n",
       "   'min_samples_leaf': 1,\n",
       "   'min_samples_split': 10,\n",
       "   'n_estimators': 500,\n",
       "   'oob_score': False,\n",
       "   'random_state': 2018},\n",
       "  {'class_weight': {0: 0.1, 1: 10},\n",
       "   'min_samples_leaf': 5,\n",
       "   'min_samples_split': 6,\n",
       "   'n_estimators': 50,\n",
       "   'oob_score': False,\n",
       "   'random_state': 2018},\n",
       "  {'class_weight': {0: 0.1, 1: 10},\n",
       "   'min_samples_leaf': 5,\n",
       "   'min_samples_split': 6,\n",
       "   'n_estimators': 500,\n",
       "   'oob_score': False,\n",
       "   'random_state': 2018},\n",
       "  {'class_weight': {0: 0.1, 1: 10},\n",
       "   'min_samples_leaf': 5,\n",
       "   'min_samples_split': 10,\n",
       "   'n_estimators': 50,\n",
       "   'oob_score': False,\n",
       "   'random_state': 2018},\n",
       "  {'class_weight': {0: 0.1, 1: 10},\n",
       "   'min_samples_leaf': 5,\n",
       "   'min_samples_split': 10,\n",
       "   'n_estimators': 500,\n",
       "   'oob_score': False,\n",
       "   'random_state': 2018}],\n",
       " 'split0_test_f1_0.3': array([0.42476548, 0.42535634, 0.39721658, 0.40894381, 0.34911486,\n",
       "        0.35381138, 0.34911486, 0.35381138, 0.40863209, 0.4172613 ,\n",
       "        0.38026721, 0.38434343, 0.31077184, 0.30807996, 0.31077184,\n",
       "        0.30807996, 0.41883004, 0.42134251, 0.38558559, 0.38532581,\n",
       "        0.32194085, 0.31948324, 0.32194085, 0.31948324]),\n",
       " 'split1_test_f1_0.3': array([0.41654676, 0.42274052, 0.39383562, 0.38705983, 0.35426929,\n",
       "        0.35633832, 0.35426929, 0.35633832, 0.40161182, 0.39498846,\n",
       "        0.37113924, 0.37277228, 0.31110353, 0.30883847, 0.31110353,\n",
       "        0.30883847, 0.40348525, 0.40026774, 0.37175284, 0.3743073 ,\n",
       "        0.32084806, 0.32176991, 0.32084806, 0.32176991]),\n",
       " 'split2_test_f1_0.3': array([0.41167988, 0.41860465, 0.38750358, 0.38871473, 0.35724623,\n",
       "        0.35453984, 0.35724623, 0.35453984, 0.40299015, 0.40559441,\n",
       "        0.37515972, 0.37440876, 0.31002527, 0.31243646, 0.31002527,\n",
       "        0.31243646, 0.39797297, 0.41037736, 0.36843428, 0.37478021,\n",
       "        0.32496413, 0.32377919, 0.32496413, 0.32377919]),\n",
       " 'split3_test_f1_0.3': array([0.44460802, 0.44386031, 0.40186916, 0.41552378, 0.3651295 ,\n",
       "        0.36193642, 0.3651295 , 0.36193642, 0.4198895 , 0.42422192,\n",
       "        0.38315571, 0.38968916, 0.31334358, 0.31385245, 0.31334358,\n",
       "        0.31385245, 0.42572215, 0.42960913, 0.39441716, 0.39200615,\n",
       "        0.32489301, 0.32486227, 0.32489301, 0.32486227]),\n",
       " 'split4_test_f1_0.3': array([0.44192012, 0.44602699, 0.40268849, 0.40807963, 0.35847086,\n",
       "        0.35903814, 0.35847086, 0.35903814, 0.42628651, 0.42244001,\n",
       "        0.38529259, 0.38981782, 0.31037992, 0.30743581, 0.31037992,\n",
       "        0.30743581, 0.42715797, 0.42862034, 0.38714614, 0.39210726,\n",
       "        0.32174987, 0.32200106, 0.32174987, 0.32200106]),\n",
       " 'mean_test_f1_0.3': array([0.42790349, 0.43131726, 0.39662248, 0.40166399, 0.35684597,\n",
       "        0.3571327 , 0.35684597, 0.3571327 , 0.41188161, 0.41290084,\n",
       "        0.37900271, 0.38220601, 0.3111248 , 0.31012861, 0.3111248 ,\n",
       "        0.31012861, 0.41463325, 0.41804301, 0.38146686, 0.38370504,\n",
       "        0.32287917, 0.3223791 , 0.32287917, 0.3223791 ]),\n",
       " 'std_test_f1_0.3': array([0.01324782, 0.01135251, 0.00557849, 0.01155178, 0.00525024,\n",
       "        0.00300302, 0.00525024, 0.00300302, 0.00966132, 0.01106721,\n",
       "        0.00519637, 0.00732526, 0.00116718, 0.00254185, 0.00116718,\n",
       "        0.00254185, 0.01182614, 0.01123623, 0.00980957, 0.00787529,\n",
       "        0.0017137 , 0.00184534, 0.0017137 , 0.00184534]),\n",
       " 'rank_test_f1_0.3': array([ 2,  1,  8,  7, 15, 13, 15, 13,  6,  5, 12, 10, 21, 23, 21, 23,  4,\n",
       "         3, 11,  9, 17, 19, 17, 19], dtype=int32),\n",
       " 'split0_train_f1_0.3': array([0.71759393, 0.72645914, 0.57042469, 0.57437317, 0.394213  ,\n",
       "        0.39417291, 0.394213  , 0.39417291, 0.66518215, 0.65451358,\n",
       "        0.49509414, 0.48333441, 0.32188268, 0.32046001, 0.32188268,\n",
       "        0.32046001, 0.66506367, 0.66423552, 0.49470058, 0.49371942,\n",
       "        0.33674528, 0.33260589, 0.33674528, 0.33260589]),\n",
       " 'split1_train_f1_0.3': array([0.71300363, 0.72674192, 0.56968495, 0.5732709 , 0.39444063,\n",
       "        0.39185644, 0.39444063, 0.39185644, 0.65572043, 0.65256903,\n",
       "        0.49287223, 0.48705407, 0.32113524, 0.32015776, 0.32113524,\n",
       "        0.32015776, 0.66282063, 0.66464934, 0.4904124 , 0.49644353,\n",
       "        0.33285791, 0.33445295, 0.33285791, 0.33445295]),\n",
       " 'split2_train_f1_0.3': array([0.71731822, 0.72688339, 0.57274331, 0.57619011, 0.39723404,\n",
       "        0.3960123 , 0.39723404, 0.3960123 , 0.65965904, 0.65554775,\n",
       "        0.49726994, 0.48695879, 0.31719334, 0.31785486, 0.31719334,\n",
       "        0.31785486, 0.66488604, 0.66565648, 0.49657557, 0.49561986,\n",
       "        0.33433317, 0.33143973, 0.33433317, 0.33143973]),\n",
       " 'split3_train_f1_0.3': array([0.71360336, 0.72622983, 0.56565198, 0.5692296 , 0.39506826,\n",
       "        0.38963071, 0.39506826, 0.38963071, 0.65320042, 0.65075355,\n",
       "        0.49009316, 0.48057128, 0.31707628, 0.31621725, 0.31707628,\n",
       "        0.31621725, 0.66264526, 0.66129603, 0.49277657, 0.49310185,\n",
       "        0.33294705, 0.33079444, 0.33294705, 0.33079444]),\n",
       " 'split4_train_f1_0.3': array([0.71136082, 0.72299652, 0.56076871, 0.56650993, 0.39492466,\n",
       "        0.39241437, 0.39492466, 0.39241437, 0.6546315 , 0.6479313 ,\n",
       "        0.48986819, 0.48013884, 0.31901264, 0.31530961, 0.31901264,\n",
       "        0.31530961, 0.65331468, 0.66059427, 0.49051152, 0.48929063,\n",
       "        0.33124917, 0.33105832, 0.33124917, 0.33105832]),\n",
       " 'mean_train_f1_0.3': array([0.71457599, 0.72586216, 0.56785473, 0.57191474, 0.39517612,\n",
       "        0.39281735, 0.39517612, 0.39281735, 0.65767871, 0.65226304,\n",
       "        0.49303953, 0.48361148, 0.31926003, 0.3179999 , 0.31926003,\n",
       "        0.3179999 , 0.66174606, 0.66328633, 0.49299533, 0.49363506,\n",
       "        0.33362651, 0.33207027, 0.33362651, 0.33207027]),\n",
       " 'std_train_f1_0.3': array([0.00246509, 0.00145054, 0.00421702, 0.0035379 , 0.00107503,\n",
       "        0.00215804, 0.00107503, 0.00215804, 0.00432201, 0.00271994,\n",
       "        0.00285952, 0.0029811 , 0.00197463, 0.00205646, 0.00197463,\n",
       "        0.00205646, 0.00433399, 0.00197913, 0.00239227, 0.00248968,\n",
       "        0.00184012, 0.00134264, 0.00184012, 0.00134264]),\n",
       " 'split0_test_f1_0.4': array([0.44752475, 0.44746104, 0.43478261, 0.43727309, 0.39014267,\n",
       "        0.39329032, 0.39014267, 0.39329032, 0.43590889, 0.44118953,\n",
       "        0.40913477, 0.41485678, 0.33547412, 0.33594333, 0.33547412,\n",
       "        0.33594333, 0.45040946, 0.43843031, 0.41199226, 0.42043606,\n",
       "        0.34505797, 0.3446536 , 0.34505797, 0.3446536 ]),\n",
       " 'split1_test_f1_0.4': array([0.45238095, 0.45542636, 0.43050716, 0.43360434, 0.38112523,\n",
       "        0.37985094, 0.38112523, 0.37985094, 0.43500425, 0.43628692,\n",
       "        0.39100562, 0.38227147, 0.33383572, 0.33333333, 0.33383572,\n",
       "        0.33333333, 0.42696629, 0.44212359, 0.39142591, 0.38999683,\n",
       "        0.34142552, 0.34379845, 0.34142552, 0.34379845]),\n",
       " 'split2_test_f1_0.4': array([0.43320611, 0.43507752, 0.40699886, 0.42612753, 0.3886037 ,\n",
       "        0.38585703, 0.3886037 , 0.38585703, 0.41994085, 0.41919192,\n",
       "        0.39822729, 0.39247146, 0.33497724, 0.33689339, 0.33497724,\n",
       "        0.33689339, 0.42243944, 0.42580645, 0.3947203 , 0.39481996,\n",
       "        0.34228583, 0.3410943 , 0.34228583, 0.3410943 ]),\n",
       " 'split3_test_f1_0.4': array([0.47670427, 0.48797595, 0.44873817, 0.45666132, 0.40348101,\n",
       "        0.40165631, 0.40348101, 0.40165631, 0.45398773, 0.44609341,\n",
       "        0.41338967, 0.40889167, 0.33886792, 0.33414134, 0.33886792,\n",
       "        0.33414134, 0.46098975, 0.46085011, 0.42006472, 0.42139384,\n",
       "        0.3503047 , 0.34821429, 0.3503047 , 0.34821429]),\n",
       " 'split4_test_f1_0.4': array([0.48355899, 0.49477352, 0.45311269, 0.45801527, 0.39127046,\n",
       "        0.39000515, 0.39127046, 0.39000515, 0.45794804, 0.46369204,\n",
       "        0.41642229, 0.41222818, 0.33749527, 0.33538061, 0.33749527,\n",
       "        0.33538061, 0.45829675, 0.46436576, 0.41768883, 0.41758958,\n",
       "        0.34645362, 0.34498744, 0.34645362, 0.34498744]),\n",
       " 'mean_test_f1_0.4': array([0.45867423, 0.46414188, 0.43482731, 0.44233576, 0.39092438,\n",
       "        0.39013174, 0.39092438, 0.39013174, 0.44055739, 0.44129027,\n",
       "        0.40563559, 0.4021436 , 0.33612998, 0.33513841, 0.33612998,\n",
       "        0.33513841, 0.44381976, 0.44631465, 0.40717798, 0.40884687,\n",
       "        0.34510541, 0.34454954, 0.34510541, 0.34454954]),\n",
       " 'std_test_f1_0.4': array([0.01874488, 0.02326057, 0.01625396, 0.0127721 , 0.00720838,\n",
       "        0.00730444, 0.00720838, 0.00730444, 0.01385848, 0.01441028,\n",
       "        0.00956705, 0.01262797, 0.00181012, 0.001268  , 0.00181012,\n",
       "        0.001268  , 0.01605599, 0.01440434, 0.01185787, 0.01356658,\n",
       "        0.00317312, 0.00228629, 0.00317312, 0.00228629]),\n",
       " 'rank_test_f1_0.4': array([ 2,  1,  8,  5, 13, 15, 13, 15,  7,  6, 11, 12, 21, 23, 21, 23,  4,\n",
       "         3, 10,  9, 17, 19, 17, 19], dtype=int32),\n",
       " 'split0_train_f1_0.4': array([0.842129  , 0.85632382, 0.72054847, 0.72787524, 0.49078127,\n",
       "        0.49135361, 0.49078127, 0.49135361, 0.78059998, 0.77734985,\n",
       "        0.59677162, 0.58632331, 0.35922844, 0.35408468, 0.35922844,\n",
       "        0.35408468, 0.78174395, 0.78993019, 0.60061123, 0.60661197,\n",
       "        0.373344  , 0.36855352, 0.373344  , 0.36855352]),\n",
       " 'split1_train_f1_0.4': array([0.84393717, 0.85888442, 0.7146963 , 0.72343311, 0.48637979,\n",
       "        0.4872454 , 0.48637979, 0.4872454 , 0.77541273, 0.77824093,\n",
       "        0.5890519 , 0.58489975, 0.35655288, 0.35258014, 0.35655288,\n",
       "        0.35258014, 0.78166213, 0.79051551, 0.59534439, 0.6047943 ,\n",
       "        0.36710416, 0.36715831, 0.36710416, 0.36715831]),\n",
       " 'split2_train_f1_0.4': array([0.84539585, 0.85779922, 0.71414896, 0.7262472 , 0.4914635 ,\n",
       "        0.49337329, 0.4914635 , 0.49337329, 0.77649506, 0.77452811,\n",
       "        0.59260435, 0.58522059, 0.35850415, 0.35276334, 0.35850415,\n",
       "        0.35276334, 0.78051839, 0.7875145 , 0.59810988, 0.60616883,\n",
       "        0.3705284 , 0.36884477, 0.3705284 , 0.36884477]),\n",
       " 'split3_train_f1_0.4': array([0.84466569, 0.85802895, 0.71286561, 0.72870939, 0.49038079,\n",
       "        0.48594088, 0.49038079, 0.48594088, 0.7709774 , 0.77337198,\n",
       "        0.59070062, 0.58304714, 0.35100085, 0.34916332, 0.35100085,\n",
       "        0.34916332, 0.78351164, 0.78922345, 0.59841384, 0.60159459,\n",
       "        0.36850673, 0.36447914, 0.36850673, 0.36447914]),\n",
       " 'split4_train_f1_0.4': array([0.84019806, 0.85157319, 0.70723154, 0.71986123, 0.48293415,\n",
       "        0.48693711, 0.48293415, 0.48693711, 0.77281192, 0.77042079,\n",
       "        0.59074733, 0.57974389, 0.35535893, 0.34900019, 0.35535893,\n",
       "        0.34900019, 0.77265205, 0.78318306, 0.59304541, 0.59951846,\n",
       "        0.36684182, 0.36610469, 0.36684182, 0.36610469]),\n",
       " 'mean_train_f1_0.4': array([0.84326516, 0.85652192, 0.71389818, 0.72522524, 0.4883879 ,\n",
       "        0.48897006, 0.4883879 , 0.48897006, 0.77525942, 0.77478233,\n",
       "        0.59197516, 0.58384694, 0.35612905, 0.35151833, 0.35612905,\n",
       "        0.35151833, 0.78001763, 0.78807334, 0.59710495, 0.60373763,\n",
       "        0.36926502, 0.36702808, 0.36926502, 0.36702808]),\n",
       " 'std_train_f1_0.4': array([0.00187887, 0.00260819, 0.00425292, 0.00323081, 0.00325377,\n",
       "        0.00287587, 0.00325377, 0.00287587, 0.00329842, 0.00281534,\n",
       "        0.00264875, 0.00230662, 0.00290924, 0.00205674, 0.00290924,\n",
       "        0.00205674, 0.00380514, 0.00264431, 0.00263046, 0.00274529,\n",
       "        0.00242282, 0.00161208, 0.00242282, 0.00161208]),\n",
       " 'split0_test_f1_0.5': array([0.45577396, 0.45402663, 0.45343268, 0.45340599, 0.43197653,\n",
       "        0.43995593, 0.43197653, 0.43995593, 0.43841808, 0.43946188,\n",
       "        0.43046358, 0.4288    , 0.36000858, 0.3592233 , 0.36000858,\n",
       "        0.3592233 , 0.44305949, 0.45076836, 0.43145327, 0.44005048,\n",
       "        0.3716094 , 0.36573971, 0.3716094 , 0.36573971]),\n",
       " 'split1_test_f1_0.5': array([0.45741513, 0.46500304, 0.45894952, 0.45619492, 0.40917108,\n",
       "        0.41541756, 0.40917108, 0.41541756, 0.43033889, 0.44599678,\n",
       "        0.41735053, 0.41946698, 0.35384288, 0.35572295, 0.35384288,\n",
       "        0.35572295, 0.44646681, 0.44857768, 0.42412141, 0.43036947,\n",
       "        0.35793195, 0.36335541, 0.35793195, 0.36335541]),\n",
       " 'split2_test_f1_0.5': array([0.44790419, 0.44917833, 0.44133799, 0.44683027, 0.41560284,\n",
       "        0.41702432, 0.41560284, 0.41702432, 0.43197459, 0.43340381,\n",
       "        0.41706161, 0.41347271, 0.35332044, 0.35289187, 0.35332044,\n",
       "        0.35289187, 0.43418259, 0.43501611, 0.4165671 , 0.41834272,\n",
       "        0.36736514, 0.36472413, 0.36736514, 0.36472413]),\n",
       " 'split3_test_f1_0.5': array([0.4981774 , 0.49876847, 0.48427673, 0.49360341, 0.45218029,\n",
       "        0.45314788, 0.45218029, 0.45314788, 0.47091109, 0.47208402,\n",
       "        0.4375    , 0.43558776, 0.36158912, 0.36035279, 0.36158912,\n",
       "        0.36035279, 0.48049052, 0.4929972 , 0.45704891, 0.45542068,\n",
       "        0.3721456 , 0.37622878, 0.3721456 , 0.37622878]),\n",
       " 'split4_test_f1_0.5': array([0.5090036 , 0.49908257, 0.48673947, 0.49680851, 0.43574226,\n",
       "        0.44248438, 0.43574226, 0.44248438, 0.47020585, 0.48166393,\n",
       "        0.44317253, 0.44043321, 0.3570665 , 0.35892073, 0.3570665 ,\n",
       "        0.35892073, 0.47728517, 0.49440716, 0.45059942, 0.45503973,\n",
       "        0.37102866, 0.37268467, 0.37102866, 0.37268467]),\n",
       " 'mean_test_f1_0.5': array([0.47365376, 0.47321087, 0.46494653, 0.46936768, 0.42893405,\n",
       "        0.4336055 , 0.42893405, 0.4336055 , 0.44836889, 0.45452127,\n",
       "        0.42910924, 0.42755175, 0.35716542, 0.35742225, 0.35716542,\n",
       "        0.35742225, 0.45629609, 0.46435223, 0.43595737, 0.43984405,\n",
       "        0.36801602, 0.36854632, 0.36801602, 0.36854632]),\n",
       " 'std_test_f1_0.5': array([0.0248893 , 0.02161234, 0.01774522, 0.02133805, 0.01525963,\n",
       "        0.01487819, 0.01525963, 0.01487819, 0.01831856, 0.01892376,\n",
       "        0.01052068, 0.00995638, 0.00327065, 0.00273823, 0.00327065,\n",
       "        0.00273823, 0.01890351, 0.02456726, 0.01546341, 0.01432237,\n",
       "        0.00531332, 0.0050115 , 0.00531332, 0.0050115 ]),\n",
       " 'rank_test_f1_0.5': array([ 1,  2,  4,  3, 14, 11, 14, 11,  8,  7, 13, 16, 23, 21, 23, 21,  6,\n",
       "         5, 10,  9, 19, 17, 19, 17], dtype=int32),\n",
       " 'split0_train_f1_0.5': array([0.91524574, 0.93446936, 0.83162383, 0.85107371, 0.63243915,\n",
       "        0.64070419, 0.63243915, 0.64070419, 0.87334505, 0.87642296,\n",
       "        0.70823842, 0.69931642, 0.40710859, 0.4012034 , 0.40710859,\n",
       "        0.4012034 , 0.87638073, 0.88661997, 0.71645229, 0.72413459,\n",
       "        0.42615841, 0.42302028, 0.42615841, 0.42302028]),\n",
       " 'split1_train_f1_0.5': array([0.91829574, 0.93494097, 0.83408382, 0.8507428 , 0.61849761,\n",
       "        0.63715401, 0.61849761, 0.63715401, 0.86947393, 0.87673163,\n",
       "        0.69837109, 0.69781349, 0.40172136, 0.39748776, 0.40172136,\n",
       "        0.39748776, 0.87324274, 0.88661997, 0.7105188 , 0.72238344,\n",
       "        0.4206613 , 0.42249378, 0.4206613 , 0.42249378]),\n",
       " 'split2_train_f1_0.5': array([0.91599051, 0.9300237 , 0.81981777, 0.84857606, 0.62485727,\n",
       "        0.64398607, 0.62485727, 0.64398607, 0.86563698, 0.87273577,\n",
       "        0.70191946, 0.69970955, 0.40938494, 0.4031962 , 0.40938494,\n",
       "        0.4031962 , 0.86938251, 0.88378698, 0.71244389, 0.72547115,\n",
       "        0.42427687, 0.42742674, 0.42427687, 0.42742674]),\n",
       " 'split3_train_f1_0.5': array([0.91965296, 0.93329996, 0.83364098, 0.84936269, 0.62146299,\n",
       "        0.63713528, 0.62146299, 0.63713528, 0.87046996, 0.87532224,\n",
       "        0.70001877, 0.69585468, 0.39927308, 0.39365514, 0.39927308,\n",
       "        0.39365514, 0.87789945, 0.88854526, 0.71317978, 0.72292655,\n",
       "        0.42282867, 0.41801903, 0.42282867, 0.41801903]),\n",
       " 'split4_train_f1_0.5': array([0.91283716, 0.93096992, 0.81879195, 0.844024  , 0.61533125,\n",
       "        0.63235682, 0.61533125, 0.63235682, 0.86509686, 0.8714419 ,\n",
       "        0.69807441, 0.69198703, 0.40520749, 0.39613936, 0.40520749,\n",
       "        0.39613936, 0.87007231, 0.88141593, 0.70795789, 0.71916819,\n",
       "        0.4194563 , 0.42127228, 0.4194563 , 0.42127228]),\n",
       " 'mean_train_f1_0.5': array([0.91640442, 0.93274078, 0.82759167, 0.84875585, 0.62251765,\n",
       "        0.63826727, 0.62251765, 0.63826727, 0.86880455, 0.8745309 ,\n",
       "        0.70132443, 0.69693623, 0.40453909, 0.39833637, 0.40453909,\n",
       "        0.39833637, 0.87339555, 0.88539762, 0.71211053, 0.72281678,\n",
       "        0.42267631, 0.42244642, 0.42267631, 0.42244642]),\n",
       " 'std_train_f1_0.5': array([0.00238199, 0.00193184, 0.0068245 , 0.00253422, 0.00587924,\n",
       "        0.00390121, 0.00587924, 0.00390121, 0.00308604, 0.00208872,\n",
       "        0.00371879, 0.00282101, 0.00363873, 0.0034438 , 0.00363873,\n",
       "        0.0034438 , 0.00335762, 0.00250375, 0.0028243 , 0.0021116 ,\n",
       "        0.00241407, 0.00303696, 0.00241407, 0.00303696]),\n",
       " 'split0_test_f1_0.6': array([0.43548387, 0.44198078, 0.44680851, 0.4476386 , 0.45026738,\n",
       "        0.44978166, 0.45026738, 0.44978166, 0.43315508, 0.41813261,\n",
       "        0.43505808, 0.43022036, 0.38606452, 0.39087948, 0.38606452,\n",
       "        0.39087948, 0.43228819, 0.43882433, 0.43692968, 0.44371225,\n",
       "        0.39823253, 0.40154015, 0.39823253, 0.40154015]),\n",
       " 'split1_test_f1_0.6': array([0.44602273, 0.43817787, 0.44735121, 0.44960212, 0.436627  ,\n",
       "        0.44222689, 0.436627  , 0.44222689, 0.40856031, 0.42857143,\n",
       "        0.43360161, 0.43534698, 0.36648157, 0.37059265, 0.36648157,\n",
       "        0.37059265, 0.42719692, 0.42998028, 0.42886387, 0.43854167,\n",
       "        0.37855402, 0.3806663 , 0.37855402, 0.3806663 ]),\n",
       " 'split2_test_f1_0.6': array([0.45934379, 0.4628695 , 0.44996813, 0.45970938, 0.42253521,\n",
       "        0.43623113, 0.42253521, 0.43623113, 0.42884739, 0.42875648,\n",
       "        0.41147379, 0.42162698, 0.36726343, 0.37590241, 0.36726343,\n",
       "        0.37590241, 0.4343303 , 0.44227006, 0.41907661, 0.43698347,\n",
       "        0.38576474, 0.38307108, 0.38576474, 0.38307108]),\n",
       " 'split3_test_f1_0.6': array([0.4658926 , 0.48573519, 0.49014455, 0.48921833, 0.48930621,\n",
       "        0.4962406 , 0.48930621, 0.4962406 , 0.46477946, 0.46357616,\n",
       "        0.46003094, 0.45646574, 0.38818999, 0.39216671, 0.38818999,\n",
       "        0.39216671, 0.46768821, 0.48032021, 0.47800742, 0.47557003,\n",
       "        0.40547333, 0.40099695, 0.40547333, 0.40099695]),\n",
       " 'split4_test_f1_0.6': array([0.47585227, 0.49137931, 0.49679898, 0.49313277, 0.47962382,\n",
       "        0.48297872, 0.47962382, 0.48297872, 0.47097195, 0.46296296,\n",
       "        0.46868476, 0.46342711, 0.38491547, 0.38732394, 0.38491547,\n",
       "        0.38732394, 0.47774869, 0.48312376, 0.47009444, 0.48261102,\n",
       "        0.39724138, 0.4       , 0.39724138, 0.4       ]),\n",
       " 'mean_test_f1_0.6': array([0.45651853, 0.46402764, 0.46621328, 0.46785939, 0.45567087,\n",
       "        0.46149077, 0.45567087, 0.46149077, 0.44126187, 0.44039909,\n",
       "        0.44176901, 0.44141676, 0.37858271, 0.38337281, 0.37858271,\n",
       "        0.38337281, 0.44784955, 0.45490275, 0.4465934 , 0.45548283,\n",
       "        0.3930529 , 0.39325463, 0.3930529 , 0.39325463]),\n",
       " 'std_test_f1_0.6': array([0.01429869, 0.02179414, 0.02238022, 0.01951178, 0.02527797,\n",
       "        0.02372966, 0.02527797, 0.02372966, 0.02334509, 0.01906576,\n",
       "        0.02043271, 0.01590437, 0.00962237, 0.00858415, 0.00962237,\n",
       "        0.00858415, 0.02068308, 0.02227852, 0.02325509, 0.01953037,\n",
       "        0.00961223, 0.00934099, 0.00961223, 0.00934099]),\n",
       " 'rank_test_f1_0.6': array([ 6,  3,  2,  1,  7,  4,  7,  4, 15, 16, 13, 14, 23, 21, 23, 21, 11,\n",
       "        10, 12,  9, 19, 17, 19, 17], dtype=int32),\n",
       " 'split0_train_f1_0.6': array([0.89060525, 0.91141705, 0.84045192, 0.86271815, 0.72718493,\n",
       "        0.74750669, 0.72718493, 0.74750669, 0.91052967, 0.93617555,\n",
       "        0.8097766 , 0.81444311, 0.48299981, 0.47424906, 0.48299981,\n",
       "        0.47424906, 0.91522823, 0.94287159, 0.81649531, 0.8380931 ,\n",
       "        0.51416724, 0.51540268, 0.51416724, 0.51540268]),\n",
       " 'split1_train_f1_0.6': array([0.89300758, 0.90830305, 0.84454184, 0.8570644 , 0.7234144 ,\n",
       "        0.74083896, 0.7234144 , 0.74083896, 0.9133418 , 0.93820013,\n",
       "        0.79825708, 0.81196953, 0.47491724, 0.47636665, 0.47491724,\n",
       "        0.47636665, 0.91625112, 0.94281729, 0.81236792, 0.83445491,\n",
       "        0.50730575, 0.51470385, 0.50730575, 0.51470385]),\n",
       " 'split2_train_f1_0.6': array([0.89085546, 0.91298304, 0.83683142, 0.85582029, 0.71358702,\n",
       "        0.7415703 , 0.71358702, 0.7415703 , 0.91163027, 0.93515615,\n",
       "        0.80087384, 0.81077558, 0.48704393, 0.47740203, 0.48704393,\n",
       "        0.47740203, 0.91384145, 0.93832766, 0.81107019, 0.83520179,\n",
       "        0.50996016, 0.51580331, 0.50996016, 0.51580331]),\n",
       " 'split3_train_f1_0.6': array([0.89120045, 0.90914166, 0.84710404, 0.86220635, 0.72790838,\n",
       "        0.7436209 , 0.72790838, 0.7436209 , 0.90995019, 0.93681698,\n",
       "        0.79525158, 0.81006617, 0.47332022, 0.46553658, 0.47332022,\n",
       "        0.46553658, 0.91699808, 0.94326241, 0.81841662, 0.83715184,\n",
       "        0.50823819, 0.50879346, 0.50823819, 0.50879346]),\n",
       " 'split4_train_f1_0.6': array([0.88671875, 0.90825688, 0.83711452, 0.85311816, 0.71914641,\n",
       "        0.73850954, 0.71914641, 0.73850954, 0.9071066 , 0.9325    ,\n",
       "        0.80048103, 0.80739699, 0.4849194 , 0.47296442, 0.4849194 ,\n",
       "        0.47296442, 0.91106014, 0.93687123, 0.80736795, 0.83277517,\n",
       "        0.50352113, 0.50976909, 0.50352113, 0.50976909]),\n",
       " 'mean_train_f1_0.6': array([0.8904775 , 0.91002034, 0.84120875, 0.85818547, 0.72224823,\n",
       "        0.74240928, 0.72224823, 0.74240928, 0.91051171, 0.93576976,\n",
       "        0.80092803, 0.81093028, 0.48064012, 0.47330375, 0.48064012,\n",
       "        0.47330375, 0.9146758 , 0.94083004, 0.8131436 , 0.83553536,\n",
       "        0.50863849, 0.51289448, 0.50863849, 0.51289448]),\n",
       " 'std_train_f1_0.6': array([0.00205968, 0.001874  , 0.00405858, 0.00372132, 0.00533678,\n",
       "        0.00302752, 0.00533678, 0.00302752, 0.00205772, 0.00190976,\n",
       "        0.00485502, 0.00230975, 0.00549948, 0.00418366, 0.00549948,\n",
       "        0.00418366, 0.00209518, 0.00268208, 0.00393186, 0.00190012,\n",
       "        0.00347672, 0.00298706, 0.00347672, 0.00298706]),\n",
       " 'split0_test_precision': array([0.53458213, 0.55676516, 0.45079365, 0.46170921, 0.32849972,\n",
       "        0.33482392, 0.32849972, 0.33482392, 0.46411483, 0.46117647,\n",
       "        0.35087719, 0.34227331, 0.22511403, 0.22371188, 0.22511403,\n",
       "        0.22371188, 0.47051745, 0.48116646, 0.35050167, 0.36243936,\n",
       "        0.23553009, 0.23083404, 0.23553009, 0.23083404]),\n",
       " 'split1_test_precision': array([0.51543624, 0.53878702, 0.43816943, 0.44221106, 0.30510258,\n",
       "        0.31156317, 0.30510258, 0.31156317, 0.43243243, 0.44768069,\n",
       "        0.32861538, 0.32809668, 0.22083444, 0.22106632, 0.22083444,\n",
       "        0.22106632, 0.44646681, 0.45861298, 0.33821656, 0.34663179,\n",
       "        0.22550111, 0.22886541, 0.22550111, 0.22886541]),\n",
       " 'split2_test_precision': array([0.50815217, 0.52045134, 0.41347053, 0.42759295, 0.3107105 ,\n",
       "        0.31310419, 0.3107105 , 0.31310419, 0.42722513, 0.42797495,\n",
       "        0.33041302, 0.32383263, 0.22102716, 0.2193851 , 0.22102716,\n",
       "        0.2193851 , 0.43052632, 0.43642241, 0.33164236, 0.33505155,\n",
       "        0.23198198, 0.2299525 , 0.23198198, 0.2299525 ]),\n",
       " 'split3_test_precision': array([0.57503506, 0.58610709, 0.47384615, 0.49098621, 0.3435412 ,\n",
       "        0.34408004, 0.3435412 , 0.34408004, 0.48256468, 0.48744292,\n",
       "        0.35490327, 0.34880722, 0.2254902 , 0.22407939, 0.2254902 ,\n",
       "        0.22407939, 0.50058072, 0.51643192, 0.37066667, 0.37362637,\n",
       "        0.23581662, 0.23765171, 0.23581662, 0.23765171]),\n",
       " 'split4_test_precision': array([0.57844475, 0.58119658, 0.47272727, 0.49313622, 0.32622601,\n",
       "        0.33668904, 0.32622601, 0.33668904, 0.47535597, 0.49217002,\n",
       "        0.35822868, 0.35192308, 0.2230235 , 0.22297297, 0.2230235 ,\n",
       "        0.22297297, 0.48769575, 0.51695906, 0.36675639, 0.37311385,\n",
       "        0.23402466, 0.23534386, 0.23402466, 0.23534386]),\n",
       " 'mean_test_precision': array([0.54232882, 0.55666046, 0.44980055, 0.46312608, 0.32281556,\n",
       "        0.32805162, 0.32281556, 0.32805162, 0.45633778, 0.46328804,\n",
       "        0.34460707, 0.33898617, 0.22309782, 0.22224309, 0.22309782,\n",
       "        0.22224309, 0.46715642, 0.4819173 , 0.3515561 , 0.35817203,\n",
       "        0.23257081, 0.23252936, 0.23257081, 0.23252936]),\n",
       " 'std_test_precision': array([0.02941178, 0.0248985 , 0.02262723, 0.02599544, 0.01366579,\n",
       "        0.01321118, 0.01366579, 0.01321118, 0.02249014, 0.02413573,\n",
       "        0.01255454, 0.01116093, 0.00195984, 0.00176721, 0.00195984,\n",
       "        0.00176721, 0.02576878, 0.03172566, 0.01530923, 0.01515281,\n",
       "        0.00378775, 0.00337928, 0.00378775, 0.00337928]),\n",
       " 'rank_test_precision': array([ 2,  1,  8,  6, 15, 13, 15, 13,  7,  5, 11, 12, 21, 23, 21, 23,  4,\n",
       "         3, 10,  9, 17, 19, 17, 19], dtype=int32),\n",
       " 'split0_train_precision': array([0.86044319, 0.87803155, 0.7299211 , 0.7510756 , 0.47315258,\n",
       "        0.47956875, 0.47315258, 0.47956875, 0.7762966 , 0.78002925,\n",
       "        0.54851514, 0.53765299, 0.25557837, 0.25094086, 0.25557837,\n",
       "        0.25094086, 0.78077889, 0.79633184, 0.55834829, 0.56756346,\n",
       "        0.27077592, 0.26824713, 0.27077592, 0.26824713]),\n",
       " 'split1_train_precision': array([0.86292982, 0.88032167, 0.73310331, 0.75071692, 0.45765326,\n",
       "        0.47638631, 0.45765326, 0.47638631, 0.77020045, 0.78051839,\n",
       "        0.53684514, 0.5358783 , 0.25134626, 0.24804039, 0.25134626,\n",
       "        0.24804039, 0.77613494, 0.79633184, 0.55117412, 0.5654149 ,\n",
       "        0.26635281, 0.26782384, 0.26635281, 0.26782384]),\n",
       " 'split2_train_precision': array([0.85784428, 0.87041793, 0.71323821, 0.7473491 , 0.46490655,\n",
       "        0.48305425, 0.46490655, 0.48305425, 0.7641993 , 0.77420693,\n",
       "        0.54105019, 0.53811788, 0.25737524, 0.25250203, 0.25737524,\n",
       "        0.25250203, 0.7705359 , 0.79177269, 0.5536589 , 0.56920732,\n",
       "        0.26927793, 0.27180084, 0.26927793, 0.27180084]),\n",
       " 'split3_train_precision': array([0.86699858, 0.87617481, 0.73241435, 0.74872319, 0.46184896,\n",
       "        0.47564356, 0.46184896, 0.47564356, 0.77256692, 0.77828714,\n",
       "        0.53895072, 0.53357143, 0.24943235, 0.24506266, 0.24943235,\n",
       "        0.24506266, 0.78352249, 0.79944349, 0.55454816, 0.56608063,\n",
       "        0.2681123 , 0.26423771, 0.2681123 , 0.26423771]),\n",
       " 'split4_train_precision': array([0.85537093, 0.87207671, 0.71182753, 0.74153659, 0.45504681,\n",
       "        0.47091195, 0.45504681, 0.47091195, 0.76320098, 0.77217283,\n",
       "        0.5362631 , 0.52903683, 0.25408163, 0.24699114, 0.25408163,\n",
       "        0.24699114, 0.77082042, 0.78797468, 0.54817861, 0.56148527,\n",
       "        0.26540621, 0.26684289, 0.26540621, 0.26684289]),\n",
       " 'mean_train_precision': array([0.86071736, 0.87540453, 0.7241009 , 0.74788028, 0.46252163,\n",
       "        0.47711296, 0.46252163, 0.47711296, 0.76929285, 0.77704291,\n",
       "        0.54032486, 0.53485149, 0.25356277, 0.24870742, 0.25356277,\n",
       "        0.24870742, 0.77635853, 0.79437091, 0.55318162, 0.56595031,\n",
       "        0.26798504, 0.26779048, 0.26798504, 0.26779048]),\n",
       " 'std_train_precision': array([0.00403144, 0.00367732, 0.00951489, 0.00344939, 0.00630446,\n",
       "        0.00406127, 0.00630446, 0.00406127, 0.00497295, 0.00329563,\n",
       "        0.00442948, 0.00331726, 0.00285797, 0.0026856 , 0.00285797,\n",
       "        0.0026856 , 0.00520549, 0.00402701, 0.00340147, 0.00258653,\n",
       "        0.00193863, 0.00244183, 0.00193863, 0.00244183]),\n",
       " 'split0_test_recall_score': array([0.39721627, 0.38329764, 0.45610278, 0.44539615, 0.63062099,\n",
       "        0.64132762, 0.63062099, 0.64132762, 0.41541756, 0.41970021,\n",
       "        0.55674518, 0.5738758 , 0.89828694, 0.9111349 , 0.89828694,\n",
       "        0.9111349 , 0.41862955, 0.42398287, 0.56102784, 0.55995717,\n",
       "        0.88008565, 0.88008565, 0.88008565, 0.88008565]),\n",
       " 'split1_test_recall_score': array([0.4111349 , 0.40899358, 0.48179872, 0.47109208, 0.62098501,\n",
       "        0.62312634, 0.62098501, 0.62312634, 0.42826552, 0.44432548,\n",
       "        0.57173448, 0.58137045, 0.88972163, 0.91006424, 0.88972163,\n",
       "        0.91006424, 0.44646681, 0.43897216, 0.56852248, 0.56745182,\n",
       "        0.86723769, 0.88115632, 0.86723769, 0.88115632]),\n",
       " 'split2_test_recall_score': array([0.40042827, 0.39507495, 0.4732334 , 0.46788009, 0.62740899,\n",
       "        0.624197  , 0.62740899, 0.624197  , 0.43683084, 0.43897216,\n",
       "        0.56531049, 0.57173448, 0.88008565, 0.90149893, 0.88008565,\n",
       "        0.90149893, 0.4379015 , 0.43361884, 0.55995717, 0.55674518,\n",
       "        0.88222698, 0.88115632, 0.88222698, 0.88115632]),\n",
       " 'split3_test_recall_score': array([0.43944266, 0.4340836 , 0.49517685, 0.49624866, 0.66130761,\n",
       "        0.66345123, 0.66130761, 0.66345123, 0.45980707, 0.45766345,\n",
       "        0.57020364, 0.57984995, 0.91211147, 0.91961415, 0.91211147,\n",
       "        0.91961415, 0.4619507 , 0.471597  , 0.59592712, 0.58306538,\n",
       "        0.88210075, 0.90246517, 0.88210075, 0.90246517]),\n",
       " 'split4_test_recall_score': array([0.45444802, 0.43729904, 0.50160772, 0.50053591, 0.65594855,\n",
       "        0.64523044, 0.65594855, 0.64523044, 0.46516613, 0.471597  ,\n",
       "        0.58092176, 0.58842444, 0.89496249, 0.91961415, 0.89496249,\n",
       "        0.91961415, 0.46730975, 0.47374062, 0.58413719, 0.58306538,\n",
       "        0.89496249, 0.89496249, 0.89496249, 0.89496249]),\n",
       " 'mean_test_recall_score': array([0.42053306, 0.41174889, 0.48158328, 0.47622977, 0.63925352,\n",
       "        0.63946598, 0.63925352, 0.63946598, 0.44109664, 0.446451  ,\n",
       "        0.56898287, 0.57905084, 0.89503332, 0.91238501, 0.89503332,\n",
       "        0.91238501, 0.446451  , 0.44838141, 0.57391377, 0.57005651,\n",
       "        0.88132245, 0.8879648 , 0.88132245, 0.8879648 ]),\n",
       " 'std_test_recall_score': array([0.02255639, 0.0211977 , 0.01615413, 0.02019086, 0.01620887,\n",
       "        0.01491374, 0.01620887, 0.01491374, 0.01882366, 0.01751618,\n",
       "        0.00793529, 0.00590241, 0.01052516, 0.00678196, 0.01052516,\n",
       "        0.00678196, 0.01744964, 0.02041459, 0.01399277, 0.0111752 ,\n",
       "        0.00880207, 0.00909958, 0.00880207, 0.00909958]),\n",
       " 'rank_test_recall_score': array([23, 24, 17, 18, 11,  9, 11,  9, 22, 20, 16, 13,  3,  1,  3,  1, 21,\n",
       "        19, 14, 15,  7,  5,  7,  5], dtype=int32),\n",
       " 'split0_train_recall_score': array([0.97750402, 0.99866095, 0.96625603, 0.98178897, 0.95340118,\n",
       "        0.96491698, 0.95340118, 0.96491698, 0.99812533, 1.        ,\n",
       "        0.99919657, 1.        , 1.        , 1.        , 1.        ,\n",
       "        1.        , 0.99866095, 1.        , 0.99946438, 1.        ,\n",
       "        1.        , 1.        , 1.        , 1.        ]),\n",
       " 'split1_train_recall_score': array([0.98125335, 0.99678629, 0.96732726, 0.98152116, 0.95366899,\n",
       "        0.96170327, 0.95366899, 0.96170327, 0.99812533, 1.        ,\n",
       "        0.99892876, 1.        , 1.        , 1.        , 1.        ,\n",
       "        1.        , 0.99812533, 1.        , 0.99946438, 1.        ,\n",
       "        1.        , 1.        , 1.        , 1.        ]),\n",
       " 'split2_train_recall_score': array([0.98259239, 0.99839314, 0.96384574, 0.98152116, 0.95259775,\n",
       "        0.96572041, 0.95259775, 0.96572041, 0.99812533, 1.        ,\n",
       "        0.99892876, 1.        , 1.        , 1.        , 1.        ,\n",
       "        1.        , 0.99732191, 1.        , 0.99892876, 1.        ,\n",
       "        0.99973219, 1.        , 0.99973219, 1.        ]),\n",
       " 'split3_train_recall_score': array([0.97911647, 0.99839357, 0.96733601, 0.98125837, 0.94966533,\n",
       "        0.96465863, 0.94966533, 0.96465863, 0.99678715, 1.        ,\n",
       "        0.99839357, 1.        , 1.        , 1.        , 1.        ,\n",
       "        1.        , 0.99812584, 1.        , 0.99892905, 1.        ,\n",
       "        0.99973226, 1.        , 0.99973226, 1.        ]),\n",
       " 'split4_train_recall_score': array([0.97858099, 0.99839357, 0.96358768, 0.9793842 , 0.94993307,\n",
       "        0.962249  , 0.94993307, 0.962249  , 0.99839357, 1.        ,\n",
       "        0.99973226, 1.        , 1.        , 1.        , 1.        ,\n",
       "        1.        , 0.99866131, 1.        , 0.99919679, 1.        ,\n",
       "        0.99973226, 1.        , 0.99973226, 1.        ]),\n",
       " 'mean_train_recall_score': array([0.97980944, 0.99812551, 0.96567055, 0.98109477, 0.95185326,\n",
       "        0.96384966, 0.95185326, 0.96384966, 0.99791135, 1.        ,\n",
       "        0.99903599, 1.        , 1.        , 1.        , 1.        ,\n",
       "        1.        , 0.99817907, 1.        , 0.99919667, 1.        ,\n",
       "        0.99983934, 1.        , 0.99983934, 1.        ]),\n",
       " 'std_train_recall_score': array([0.00185116, 0.00067758, 0.00164496, 0.00087159, 0.00171589,\n",
       "        0.00157876, 0.00171589, 0.00157876, 0.00057162, 0.        ,\n",
       "        0.00043503, 0.        , 0.        , 0.        , 0.        ,\n",
       "        0.        , 0.00049096, 0.        , 0.00023947, 0.        ,\n",
       "        0.00013118, 0.        , 0.00013118, 0.        ])}"
      ]
     },
     "execution_count": 133,
     "metadata": {},
     "output_type": "execute_result"
    }
   ],
   "source": [
    "rf_cv.cv_results_"
   ]
  },
  {
   "cell_type": "markdown",
   "metadata": {},
   "source": [
    "{'class_weight': 'balanced',  \n",
    "   'min_samples_leaf': 1,  \n",
    "   'min_samples_split': 6,  \n",
    "   'n_estimators': 50,  \n",
    "   'oob_score': False,  \n",
    "   'random_state': 2018}  \n",
    "RF with 0.5 cutoff.  \n",
    "F1 : 0.47365376 , std :  0.0248893  \n",
    "precision : 0.54232882 , std : 0.02941178  \n",
    "Recall : 0.42053306 , std : 0.02255639  \n",
    "it seems like overfitting is happening.  \n",
    "Public LB : 0.47093451066961\n",
    "\n",
    "====================================================================\n",
    "\n",
    "RF, n_estimators=200, min_samples_split=5, class_weight='balanced', cutoff=0.4 , F1 = 0.4785873560988933\n",
    "Public LB = "
   ]
  },
  {
   "cell_type": "code",
   "execution_count": 135,
   "metadata": {},
   "outputs": [],
   "source": [
    "rf_clf = RandomForestClassifier(random_state=2018, class_weight= 'balanced', min_samples_leaf = 1, min_samples_split= 6, n_estimators= 50, oob_score= False)"
   ]
  },
  {
   "cell_type": "code",
   "execution_count": 137,
   "metadata": {},
   "outputs": [
    {
     "data": {
      "text/plain": [
       "RandomForestClassifier(bootstrap=True, class_weight='balanced',\n",
       "            criterion='gini', max_depth=None, max_features='auto',\n",
       "            max_leaf_nodes=None, min_impurity_decrease=0.0,\n",
       "            min_impurity_split=None, min_samples_leaf=1,\n",
       "            min_samples_split=6, min_weight_fraction_leaf=0.0,\n",
       "            n_estimators=50, n_jobs=1, oob_score=False, random_state=2018,\n",
       "            verbose=0, warm_start=False)"
      ]
     },
     "execution_count": 137,
     "metadata": {},
     "output_type": "execute_result"
    }
   ],
   "source": [
    "rf_clf.fit(train_df[features], train_df[target])"
   ]
  },
  {
   "cell_type": "code",
   "execution_count": 138,
   "metadata": {},
   "outputs": [],
   "source": [
    "imp = rf_clf.feature_importances_\n",
    "imp, fe_names = zip(*sorted(zip(imp, features), reverse=True))"
   ]
  },
  {
   "cell_type": "code",
   "execution_count": 141,
   "metadata": {
    "scrolled": false
   },
   "outputs": [
    {
     "data": {
      "image/png": "[encoded data removed]",
      "text/plain": [
       "<Figure size 720x720 with 1 Axes>"
      ]
     },
     "metadata": {},
     "output_type": "display_data"
    }
   ],
   "source": [
    "f, ax = plt.subplots(figsize=(10,10))\n",
    "sns.barplot(x= list(imp), y= list(fe_names))\n",
    "ax.set(title='Feature importance of each features', ylabel='Features', xlabel='importance of features')\n",
    "plt.show()"
   ]
  },
  {
   "cell_type": "code",
   "execution_count": 142,
   "metadata": {},
   "outputs": [],
   "source": [
    "sub = pd.read_csv(f'{DATA_PATH}/sample_submission.csv')"
   ]
  },
  {
   "cell_type": "code",
   "execution_count": 143,
   "metadata": {},
   "outputs": [],
   "source": [
    "sub['is_promoted'] = rf_clf.predict(test_df[features])"
   ]
  },
  {
   "cell_type": "code",
   "execution_count": 144,
   "metadata": {},
   "outputs": [
    {
     "data": {
      "text/plain": [
       "0    0.936356\n",
       "1    0.063644\n",
       "Name: is_promoted, dtype: float64"
      ]
     },
     "execution_count": 144,
     "metadata": {},
     "output_type": "execute_result"
    }
   ],
   "source": [
    "sub['is_promoted'].value_counts(normalize=True)"
   ]
  },
  {
   "cell_type": "code",
   "execution_count": 145,
   "metadata": {},
   "outputs": [],
   "source": [
    "sub.to_csv(f'{SUB_PATH}/rf2.csv', index=False)"
   ]
  },
  {
   "cell_type": "code",
   "execution_count": null,
   "metadata": {},
   "outputs": [],
   "source": []
  }
 ],
 "metadata": {
  "kernelspec": {
   "display_name": "Python 3",
   "language": "python",
   "name": "python3"
  },
  "language_info": {
   "codemirror_mode": {
    "name": "ipython",
    "version": 3
   },
   "file_extension": ".py",
   "mimetype": "text/x-python",
   "name": "python",
   "nbconvert_exporter": "python",
   "pygments_lexer": "ipython3",
   "version": "3.6.5"
  }
 },
 "nbformat": 4,
 "nbformat_minor": 2
}
